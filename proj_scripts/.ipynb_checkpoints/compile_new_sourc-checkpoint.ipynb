{
 "cells": [
  {
   "cell_type": "code",
   "execution_count": 33,
   "metadata": {},
   "outputs": [],
   "source": [
    "import os\n",
    "absdir = \"/home/dope/Documents/thesis/Unix_Source/\"\n",
    "from pyunpack import Archive\n",
    "import subprocess\n",
    "import shutil\n",
    "os.chdir(absdir)\n",
    "if not os.path.isdir('unix_small_2'):\n",
    "    os.mkdir('unix_small_2')"
   ]
  },
  {
   "cell_type": "markdown",
   "metadata": {},
   "source": [
    "# Almost unarchieved"
   ]
  },
  {
   "cell_type": "code",
   "execution_count": 4,
   "metadata": {},
   "outputs": [
    {
     "ename": "PatoolError",
     "evalue": "patool can not unpack\npatool error: error extracting /home/dope/Documents/thesis/Unix_Source/unix_small_2/Introducing Game Programming: `/home/dope/Documents/thesis/Unix_Source/unix_small_2/Introducing Game Programming' is not a file",
     "output_type": "error",
     "traceback": [
      "\u001b[0;31m---------------------------------------------------------------------------\u001b[0m",
      "\u001b[0;31mPatoolError\u001b[0m                               Traceback (most recent call last)",
      "\u001b[0;32m<ipython-input-4-5d59012c302e>\u001b[0m in \u001b[0;36m<module>\u001b[0;34m\u001b[0m\n\u001b[1;32m      6\u001b[0m         \u001b[0;32mif\u001b[0m \u001b[0;32mnot\u001b[0m \u001b[0mos\u001b[0m\u001b[0;34m.\u001b[0m\u001b[0mpath\u001b[0m\u001b[0;34m.\u001b[0m\u001b[0misdir\u001b[0m\u001b[0;34m(\u001b[0m\u001b[0mabsdir\u001b[0m\u001b[0;34m+\u001b[0m\u001b[0;34m'/'\u001b[0m\u001b[0;34m+\u001b[0m\u001b[0mdir_\u001b[0m\u001b[0;34m+\u001b[0m\u001b[0;34m'/source'\u001b[0m\u001b[0;34m)\u001b[0m\u001b[0;34m:\u001b[0m\u001b[0;34m\u001b[0m\u001b[0;34m\u001b[0m\u001b[0m\n\u001b[1;32m      7\u001b[0m             \u001b[0mos\u001b[0m\u001b[0;34m.\u001b[0m\u001b[0mmkdir\u001b[0m\u001b[0;34m(\u001b[0m\u001b[0mabsdir\u001b[0m\u001b[0;34m+\u001b[0m\u001b[0;34m'/'\u001b[0m\u001b[0;34m+\u001b[0m\u001b[0mdir_\u001b[0m\u001b[0;34m+\u001b[0m\u001b[0;34m'/source'\u001b[0m\u001b[0;34m)\u001b[0m\u001b[0;34m\u001b[0m\u001b[0;34m\u001b[0m\u001b[0m\n\u001b[0;32m----> 8\u001b[0;31m         \u001b[0mArchive\u001b[0m\u001b[0;34m(\u001b[0m\u001b[0mabsdir\u001b[0m\u001b[0;34m+\u001b[0m\u001b[0;34m'/'\u001b[0m\u001b[0;34m+\u001b[0m\u001b[0mdir_\u001b[0m\u001b[0;34m+\u001b[0m\u001b[0;34m'/'\u001b[0m\u001b[0;34m+\u001b[0m\u001b[0mfile\u001b[0m\u001b[0;34m)\u001b[0m\u001b[0;34m.\u001b[0m\u001b[0mextractall\u001b[0m\u001b[0;34m(\u001b[0m\u001b[0mabsdir\u001b[0m\u001b[0;34m+\u001b[0m\u001b[0;34m'/'\u001b[0m\u001b[0;34m+\u001b[0m\u001b[0mdir_\u001b[0m\u001b[0;34m+\u001b[0m\u001b[0;34m'/source'\u001b[0m\u001b[0;34m)\u001b[0m\u001b[0;34m\u001b[0m\u001b[0;34m\u001b[0m\u001b[0m\n\u001b[0m",
      "\u001b[0;32m/usr/anaconda3/lib/python3.7/site-packages/pyunpack/__init__.py\u001b[0m in \u001b[0;36mextractall\u001b[0;34m(self, directory, auto_create_dir, patool_path)\u001b[0m\n\u001b[1;32m     88\u001b[0m                 \u001b[0mself\u001b[0m\u001b[0;34m.\u001b[0m\u001b[0mextractall_zipfile\u001b[0m\u001b[0;34m(\u001b[0m\u001b[0mdirectory\u001b[0m\u001b[0;34m)\u001b[0m\u001b[0;34m\u001b[0m\u001b[0;34m\u001b[0m\u001b[0m\n\u001b[1;32m     89\u001b[0m             \u001b[0;32melse\u001b[0m\u001b[0;34m:\u001b[0m\u001b[0;34m\u001b[0m\u001b[0;34m\u001b[0m\u001b[0m\n\u001b[0;32m---> 90\u001b[0;31m                 \u001b[0mself\u001b[0m\u001b[0;34m.\u001b[0m\u001b[0mextractall_patool\u001b[0m\u001b[0;34m(\u001b[0m\u001b[0mdirectory\u001b[0m\u001b[0;34m,\u001b[0m \u001b[0mpatool_path\u001b[0m\u001b[0;34m)\u001b[0m\u001b[0;34m\u001b[0m\u001b[0;34m\u001b[0m\u001b[0m\n\u001b[0m\u001b[1;32m     91\u001b[0m \u001b[0;34m\u001b[0m\u001b[0m\n\u001b[1;32m     92\u001b[0m         \u001b[0;32mif\u001b[0m \u001b[0mself\u001b[0m\u001b[0;34m.\u001b[0m\u001b[0mbackend\u001b[0m \u001b[0;34m==\u001b[0m \u001b[0;34m'zipfile'\u001b[0m\u001b[0;34m:\u001b[0m\u001b[0;34m\u001b[0m\u001b[0;34m\u001b[0m\u001b[0m\n",
      "\u001b[0;32m/usr/anaconda3/lib/python3.7/site-packages/pyunpack/__init__.py\u001b[0m in \u001b[0;36mextractall_patool\u001b[0;34m(self, directory, patool_path)\u001b[0m\n\u001b[1;32m     60\u001b[0m             \u001b[0;32mraise\u001b[0m \u001b[0mPatoolError\u001b[0m\u001b[0;34m(\u001b[0m\u001b[0;34m'patool timeout\\n'\u001b[0m \u001b[0;34m+\u001b[0m \u001b[0mstr\u001b[0m\u001b[0;34m(\u001b[0m\u001b[0mp\u001b[0m\u001b[0;34m.\u001b[0m\u001b[0mstdout\u001b[0m\u001b[0;34m)\u001b[0m \u001b[0;34m+\u001b[0m \u001b[0;34m'\\n'\u001b[0m \u001b[0;34m+\u001b[0m \u001b[0mstr\u001b[0m\u001b[0;34m(\u001b[0m\u001b[0mp\u001b[0m\u001b[0;34m.\u001b[0m\u001b[0mstderr\u001b[0m\u001b[0;34m)\u001b[0m\u001b[0;34m)\u001b[0m\u001b[0;34m\u001b[0m\u001b[0;34m\u001b[0m\u001b[0m\n\u001b[1;32m     61\u001b[0m         \u001b[0;32mif\u001b[0m \u001b[0mp\u001b[0m\u001b[0;34m.\u001b[0m\u001b[0mreturn_code\u001b[0m\u001b[0;34m:\u001b[0m\u001b[0;34m\u001b[0m\u001b[0;34m\u001b[0m\u001b[0m\n\u001b[0;32m---> 62\u001b[0;31m             \u001b[0;32mraise\u001b[0m \u001b[0mPatoolError\u001b[0m\u001b[0;34m(\u001b[0m\u001b[0;34m'patool can not unpack\\n'\u001b[0m \u001b[0;34m+\u001b[0m \u001b[0mstr\u001b[0m\u001b[0;34m(\u001b[0m\u001b[0mp\u001b[0m\u001b[0;34m.\u001b[0m\u001b[0mstderr\u001b[0m\u001b[0;34m)\u001b[0m\u001b[0;34m)\u001b[0m\u001b[0;34m\u001b[0m\u001b[0;34m\u001b[0m\u001b[0m\n\u001b[0m\u001b[1;32m     63\u001b[0m \u001b[0;34m\u001b[0m\u001b[0m\n\u001b[1;32m     64\u001b[0m     \u001b[0;32mdef\u001b[0m \u001b[0mextractall_zipfile\u001b[0m\u001b[0;34m(\u001b[0m\u001b[0mself\u001b[0m\u001b[0;34m,\u001b[0m \u001b[0mdirectory\u001b[0m\u001b[0;34m)\u001b[0m\u001b[0;34m:\u001b[0m\u001b[0;34m\u001b[0m\u001b[0;34m\u001b[0m\u001b[0m\n",
      "\u001b[0;31mPatoolError\u001b[0m: patool can not unpack\npatool error: error extracting /home/dope/Documents/thesis/Unix_Source/unix_small_2/Introducing Game Programming: `/home/dope/Documents/thesis/Unix_Source/unix_small_2/Introducing Game Programming' is not a file"
     ]
    }
   ],
   "source": [
    "########unarchieve \n",
    "exts = set()\n",
    "for dir_ in os.listdir(absdir):\n",
    "    if os.path.isdir(absdir+'/'+dir_):\n",
    "        file = os.listdir(absdir+'/'+dir_)[0]\n",
    "        if not os.path.isdir(absdir+'/'+dir_+'/source'):\n",
    "            os.mkdir(absdir+'/'+dir_+'/source')\n",
    "        Archive(absdir+'/'+dir_+'/'+file).extractall(absdir+'/'+dir_+'/source')"
   ]
  },
  {
   "cell_type": "markdown",
   "metadata": {},
   "source": [
    "## Filter programs"
   ]
  },
  {
   "cell_type": "code",
   "execution_count": 57,
   "metadata": {},
   "outputs": [
    {
     "data": {
      "text/plain": [
       "['Introducing Game Programming',\n",
       " 'ABC Payroll',\n",
       " 'Squareroot Algorithm',\n",
       " 'Stopping Rippers',\n",
       " 'a find the nimbrer game',\n",
       " '[ Doubly Link List Use of Data Structure ]',\n",
       " 'Students database',\n",
       " 'Road to Assembly language',\n",
       " 'A Simple Web Page Generator',\n",
       " 'Polymorphism simplified',\n",
       " 'Value Arrays',\n",
       " '_defs Header file',\n",
       " 'Cube3D-Spot',\n",
       " 'LCD Writer',\n",
       " 'Graphics.h',\n",
       " 'string token argument list',\n",
       " 'a Binary Search Example',\n",
       " 'Basic String Manipulation Tutorial',\n",
       " 'C++ Linked List program',\n",
       " 'calc gkt',\n",
       " 'Tutorial for C++ not comparisionable with these poor tutorial',\n",
       " 'Geometric Calculator',\n",
       " 'timeme.c',\n",
       " 'Largest and best ever C++ Tutorial',\n",
       " 'Abstract Data Types (Tutorial)',\n",
       " 'Learning about Vectors',\n",
       " 'Pointers - C approach',\n",
       " '[[[ Basic Calculator ]]]',\n",
       " 'cmp.log',\n",
       " 'big companies simulator',\n",
       " 'Artificial Intelligence Chatbot Tutorial',\n",
       " 'Crypto',\n",
       " 'token strings and command lines',\n",
       " 'C++ Bible, First Edition']"
      ]
     },
     "execution_count": 57,
     "metadata": {},
     "output_type": "execute_result"
    }
   ],
   "source": [
    "os.listdir()"
   ]
  },
  {
   "cell_type": "code",
   "execution_count": 2,
   "metadata": {},
   "outputs": [],
   "source": [
    "os.chdir('unix_small_2/')\n",
    "c_ext = ['c','cpp','cxx']\n",
    "\n",
    "#each dir\n",
    "def each_dir(name):\n",
    "    for each in os.listdir(name+'/source'):\n",
    "        if os.path.isdir(name+'/source/'+each):\n",
    "            return False\n",
    "    return True\n",
    "\n",
    "#how many c files\n",
    "def sel_src(l,r):\n",
    "    rtn = []\n",
    "    for code in os.listdir():\n",
    "        if os.path.isdir(code) and each_dir(code):\n",
    "            lens = len(os.listdir(code+'/source'))\n",
    "            if(lens<=r) and (lens>=l):\n",
    "                rtn.append(code)\n",
    "    return rtn\n",
    "\n",
    "#size dir\n",
    "def size_dir(name):\n",
    "    return len(os.listdir(name+'/source'))"
   ]
  },
  {
   "cell_type": "markdown",
   "metadata": {},
   "source": [
    "## Not include dir"
   ]
  },
  {
   "cell_type": "code",
   "execution_count": 3,
   "metadata": {},
   "outputs": [],
   "source": [
    "#each dir\n",
    "def each_dir(name):\n",
    "    for each in os.listdir(name+'/source'):\n",
    "        if os.path.isdir(name+'/source/'+each):\n",
    "            return False\n",
    "    return True\n",
    "\n",
    "##mv c_files\n",
    "def mv_src(num,loc):\n",
    "    for code in os.listdir():\n",
    "        if os.path.isdir(code) and (code!=loc):\n",
    "            if (size_dir(code)<=num) and (each_dir(code)):\n",
    "                shutil.move(code,loc);"
   ]
  },
  {
   "cell_type": "markdown",
   "metadata": {},
   "source": [
    "## Select small snippets 0<s<3"
   ]
  },
  {
   "cell_type": "code",
   "execution_count": 4,
   "metadata": {},
   "outputs": [],
   "source": [
    "\n",
    "lw_file = sel_src(0,3)\n",
    "exts = {}\n",
    "for lw in lw_file:\n",
    "    exts[lw] = set()\n",
    "    for file in os.listdir(lw+'/source'):\n",
    "        exts[lw].add(os.path.splitext(file)[1][1:])\n",
    "small_size = len(exts)"
   ]
  },
  {
   "cell_type": "code",
   "execution_count": 12,
   "metadata": {},
   "outputs": [],
   "source": [
    "for lw in lw_file :\n",
    "    exts[lw] = set([x for x in exts[lw] if x.lower() in c_ext])"
   ]
  },
  {
   "cell_type": "code",
   "execution_count": 24,
   "metadata": {},
   "outputs": [],
   "source": [
    "for lw in lw_file:\n",
    "    if not exts[lw]:\n",
    "        del exts[lw]\n",
    "curr_size = len(exts)"
   ]
  },
  {
   "cell_type": "code",
   "execution_count": 29,
   "metadata": {},
   "outputs": [
    {
     "data": {
      "text/plain": [
       "{'ABC Payroll': {'cpp'},\n",
       " 'C++ Bible Volume 2': {'cpp'},\n",
       " 'Squareroot Algorithm': {'cpp'},\n",
       " 'a find the nimbrer game': {'cpp'},\n",
       " '[ Doubly Link List Use of Data Structure ]': {'cpp'},\n",
       " 'Students database': {'cpp'},\n",
       " 'A Simple Web Page Generator': {'cpp'},\n",
       " '[ Lines Counter ]': {'cpp'},\n",
       " 'Value Arrays': {'cpp'},\n",
       " 'Bresenham Circle': {'cpp'},\n",
       " 'a School program with a cool navigation menu': {'CPP'},\n",
       " 'Cube3D-Spot': {'cpp'},\n",
       " 'LCD Writer': {'cpp'},\n",
       " 'a Banking project': {'CPP'},\n",
       " 'string token argument list': {'c'},\n",
       " 'a Binary Search Example': {'cpp'},\n",
       " 'Basic String Manipulation Tutorial': {'cpp'},\n",
       " '[ * Link List - Data Structure * ]': {'cpp'},\n",
       " 'C++ Linked List program': {'cpp'},\n",
       " 'calc gkt': {'cpp'},\n",
       " 'Spider Web': {'CPP'},\n",
       " 'Geometric Calculator': {'c'},\n",
       " 'timeme.c': {'c'},\n",
       " 'First Fit Allocation': {'C'},\n",
       " 'DonCalc': {'cpp'},\n",
       " '[[[ Basic Calculator ]]]': {'cpp'},\n",
       " 'big companies simulator': {'c'},\n",
       " 'Crypto': {'cpp'},\n",
       " 'token strings and command lines': {'c'},\n",
       " 'Encrypto': {'c'}}"
      ]
     },
     "execution_count": 29,
     "metadata": {},
     "output_type": "execute_result"
    }
   ],
   "source": [
    "exts"
   ]
  },
  {
   "cell_type": "markdown",
   "metadata": {},
   "source": [
    "# Compile small snippets"
   ]
  },
  {
   "cell_type": "code",
   "execution_count": 65,
   "metadata": {},
   "outputs": [],
   "source": [
    "def find_ext(s):\n",
    "    for file in os.listdir(s+'/source/'):\n",
    "        ext_ = os.path.splitext(file)[1][1:].lower()\n",
    "        if (ext_ in c_ext):\n",
    "            return (file,ext_)\n",
    "        return (None,None)"
   ]
  },
  {
   "cell_type": "code",
   "execution_count": 87,
   "metadata": {},
   "outputs": [],
   "source": [
    "cmp,corr = [],[]\n",
    "with open('cmp.log','a+') as o_file:\n",
    "    for pr in os.listdir():\n",
    "        if os.path.isdir(pr):\n",
    "            file,ext_ = find_ext(pr)\n",
    "            if file:\n",
    "                if ext_ == 'c':\n",
    "                    args = ['gcc','-Wall',\"%s/source/%s\" %(pr,file),'-o'\n",
    "                                         \"%s/source/%s\" %(pr,file[:-4]),'-lncurses']\n",
    "                else:\n",
    "                    args = ['g++','-Wall','-c',\"%s/source/%s\" %(pr,file),'-o'\n",
    "                                         \"%s/source/%s\" %(pr,file[:-4]),'-lncurses','-lGL','-lGLU','-lglut',\n",
    "                                           \"`pkg-config gtk+-3.0 --cflags --libs`\"]\n",
    "                proc = subprocess.Popen(args, \n",
    "                                        stderr=subprocess.PIPE, stdout=subprocess.PIPE)\n",
    "                o,e = proc.communicate()\n",
    "                if proc.returncode:\n",
    "                    o_file.write(pr+'\\n')\n",
    "                    o_file.write(e.decode('iso-8859-1'))\n",
    "                    corr.append(pr)\n",
    "                else:\n",
    "                    cmp.append(pr)"
   ]
  },
  {
   "cell_type": "code",
   "execution_count": null,
   "metadata": {},
   "outputs": [],
   "source": [
    "# -lncurses Sqareroot Algorithm\n",
    "# -lncurses SDoubly\n",
    "# g++ -o out view.cpp  `pkg-config gtk+-2.0 --cflags --libs`\n",
    "# -lGL -lGLU -lglut"
   ]
  },
  {
   "cell_type": "markdown",
   "metadata": {},
   "source": [
    "## Delete all compiled snippets"
   ]
  },
  {
   "cell_type": "code",
   "execution_count": 78,
   "metadata": {},
   "outputs": [],
   "source": [
    "for d in os.listdir():\n",
    "    if os.path.isdir(d):\n",
    "        for file in os.listdir(d+'/source'):\n",
    "            ext_ = os.path.splitext(file)[1][1:].lower()\n",
    "            if ext_ in c_ext:\n",
    "                if os.path.exists(d+'/source/'+os.path.splitext(file)[0]):\n",
    "                    os.remove(d+'/source/'+os.path.splitext(file)[0])\n",
    "                "
   ]
  },
  {
   "cell_type": "code",
   "execution_count": 81,
   "metadata": {},
   "outputs": [],
   "source": [
    "total_size = os.listdir()"
   ]
  },
  {
   "cell_type": "code",
   "execution_count": 82,
   "metadata": {},
   "outputs": [
    {
     "data": {
      "text/plain": [
       "23"
      ]
     },
     "execution_count": 82,
     "metadata": {},
     "output_type": "execute_result"
    }
   ],
   "source": [
    "len(total_size)"
   ]
  },
  {
   "cell_type": "code",
   "execution_count": null,
   "metadata": {},
   "outputs": [],
   "source": []
  }
 ],
 "metadata": {
  "kernelspec": {
   "display_name": "Python 3",
   "language": "python",
   "name": "python3"
  },
  "language_info": {
   "codemirror_mode": {
    "name": "ipython",
    "version": 3
   },
   "file_extension": ".py",
   "mimetype": "text/x-python",
   "name": "python",
   "nbconvert_exporter": "python",
   "pygments_lexer": "ipython3",
   "version": "3.7.4"
  }
 },
 "nbformat": 4,
 "nbformat_minor": 2
}
