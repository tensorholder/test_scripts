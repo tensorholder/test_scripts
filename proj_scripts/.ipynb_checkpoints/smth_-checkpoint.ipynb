{
 "cells": [
  {
   "cell_type": "code",
   "execution_count": 17,
   "metadata": {
    "collapsed": true
   },
   "outputs": [],
   "source": [
    "import os\n",
    "import re\n",
    "import subprocess\n",
    "path_='/root/Bachelor_Thesis/test/compile/A code template for OpenGL  GLUT/opt_O1/opt_codes/'\n",
    "o_path = '/root/Bachelor_Thesis/try_dis/'\n",
    "comp_path = '/root/Bachelor_Thesis/comp_dis/'\n",
    "import pandas as pd\n",
    "import numpy as np\n",
    "import pickle\n",
    "import matplotlib.pyplot as plt\n"
   ]
  },
  {
   "cell_type": "code",
   "execution_count": 18,
   "metadata": {
    "collapsed": false
   },
   "outputs": [],
   "source": [
    "###Extracrct human liked code\n",
    "for file in os.listdir(path_):    \n",
    "    proc = subprocess.Popen(['llvm-dis',path_+file,'-o',o_path+file[:-3]+'.ll'], stderr=subprocess.PIPE, stdout=subprocess.PIPE)\n",
    "    o, e = proc.communicate()\n",
    "    if proc.returncode:\n",
    "        print('Error')"
   ]
  },
  {
   "cell_type": "code",
   "execution_count": 19,
   "metadata": {
    "collapsed": false
   },
   "outputs": [],
   "source": [
    "###Compare diff on sources\n",
    "# std_model = o_path+'0.ll'\n",
    "for i in range(os.listdir(o_path).__len__()-1):\n",
    "    proc = subprocess.Popen(['diff','-u',o_path+str(i)+'.ll',o_path+str(i+1)+'.ll'], stderr=subprocess.PIPE, stdout=subprocess.PIPE)\n",
    "    o,e = proc.communicate()\n",
    "    if proc.returncode:\n",
    "        with open(comp_path+str(i)+'-'+str(i+1)+'.cmp','w+') as o_file:\n",
    "            o_file.write('\\n'.join(o.decode('iso-8859-1').split('\\n')[2:]))\n",
    "    "
   ]
  },
  {
   "cell_type": "code",
   "execution_count": 20,
   "metadata": {
    "collapsed": false,
    "scrolled": false
   },
   "outputs": [],
   "source": [
    "####Starting diff on diff:\n",
    "sizes = []\n",
    "for cmp_file in sorted(os.listdir(comp_path),key=lambda k: int(k.split('-')[0])):\n",
    "    proc = subprocess.Popen(['wc','-c',comp_path+cmp_file],stderr=subprocess.PIPE,stdout=subprocess.PIPE)\n",
    "    o,e = proc.communicate()\n",
    "    sizes.append(cmp_file+' '+o.decode('iso-8859-1').split(' ')[0])\n",
    "sizes = list(map(lambda x:tuple(x.split(' ')),sizes))"
   ]
  },
  {
   "cell_type": "code",
   "execution_count": 21,
   "metadata": {
    "collapsed": false
   },
   "outputs": [],
   "source": [
    "###Load opts\n",
    "load_opt = '/root/Bachelor_Thesis/Clang/batch_optimizations/opt_optimzations/opt_O1.pckl'\n",
    "opts__ = pickle.load(open(load_opt,'rb+'))\n",
    "instructions = pickle.load(open('/root/Bachelor_Thesis/jup_scripts/clang++/instructions_desc.pckl','rb+'))"
   ]
  },
  {
   "cell_type": "code",
   "execution_count": 22,
   "metadata": {
    "collapsed": false,
    "scrolled": true
   },
   "outputs": [
    {
     "data": {
      "image/png": "[encoded data removed]",
      "text/plain": [
       "<matplotlib.figure.Figure at 0x7f5e3401bcf8>"
      ]
     },
     "metadata": {},
     "output_type": "display_data"
    }
   ],
   "source": [
    "test = pd.DataFrame(sizes,columns=['name','size'])\n",
    "test.astype({'name':np.str,'size':np.int32}).plot()\n",
    "plt.show()"
   ]
  },
  {
   "cell_type": "code",
   "execution_count": 23,
   "metadata": {
    "collapsed": false,
    "scrolled": true
   },
   "outputs": [],
   "source": [
    "req_ins = []\n",
    "for ind in range(len(sizes)-1):\n",
    "    if (int(sizes[ind][1]) - int(sizes[ind+1][1]) < 0):\n",
    "        req_ins.append((ind+1,opts__[ind+2][0].difference(opts__[ind+1][0])))   "
   ]
  },
  {
   "cell_type": "code",
   "execution_count": 24,
   "metadata": {
    "collapsed": false
   },
   "outputs": [],
   "source": [
    "file_tokens = {}\n",
    "for ins in req_ins:\n",
    "    num,_ = ins\n",
    "    with open(comp_path+str(num)+'-'+str(num+1)+'.cmp','r+') as f:\n",
    "        i = 0\n",
    "        func_table = {}\n",
    "        global_table = []\n",
    "        token_x = []\n",
    "        token_y = []\n",
    "        func_token = ''\n",
    "        trigger = False\n",
    "        for line in f:\n",
    "#             print(line)\n",
    "            if re.match('.*define',line):\n",
    "                func_token = '@'+re.split('\\s@',line)[1]\n",
    "            if line[0:2] == '@@':\n",
    "                pass\n",
    "            elif re.match('^\\s*-',line):\n",
    "                token_x.append(line)\n",
    "                trigger=True\n",
    "            elif re.match('^\\s*\\+',line):\n",
    "                token_y.append(line)\n",
    "                trigger=True\n",
    "            elif re.match('\\s*}',line):\n",
    "                if (token_x.__len__()!=0) and (token_y.__len__()!=0):\n",
    "                    func_table[func_token] = (token_x,token_y)\n",
    "                    token_x = []\n",
    "                    token_y = []\n",
    "                global_table.append((func_token,(token_x,token_y)))\n",
    "                func_token = ''\n",
    "            else:\n",
    "                if trigger:\n",
    "                    if (func_token!=''):\n",
    "                        func_table[func_token] = (token_x,token_y)\n",
    "                        global_table.append((func_token,(token_x,token_y)))\n",
    "                    else:\n",
    "                        global_table.append((token_x,token_y))\n",
    "                    token_x = []\n",
    "                    token_y = []\n",
    "                    trigger=False\n",
    "                if (token_x.__len__()==0) and (token_x.__len__()==0): \n",
    "                    trigger=False\n",
    "    file_tokens[str(num)+'-'+str(num+1)] = (global_table,func_table)\n",
    "\n",
    "                \n",
    "\n"
   ]
  },
  {
   "cell_type": "code",
   "execution_count": 25,
   "metadata": {
    "collapsed": true
   },
   "outputs": [],
   "source": [
    "#Split file section by section\n",
    "def split_file(lfile,start,stop):\n",
    "#############################################\n",
    "    result = []\n",
    "    f_start = False\n",
    "    f_stop = False\n",
    "    with open(lfile,'r') as file:\n",
    "        for line in file:\n",
    "            if f_start:\n",
    "                result.append(line)\n",
    "            elif f_stop:\n",
    "                if re.match('.*Instruction.*',line):\n",
    "                    return result\n",
    "                else:\n",
    "                    result.append(line)\n",
    "            if re.match('.*‘{0}.*’\\sInstruction.*'.format(start),line):\n",
    "                result.append(line)\n",
    "                f_start = True\n",
    "            elif re.match('.*‘{0}.*’\\sInstruction.*'.format(stop),line):\n",
    "#                 result.append(line)\n",
    "                f_stop = True\n",
    "                f_start = False\n",
    "##############################################\n",
    "    return result"
   ]
  },
  {
   "cell_type": "code",
   "execution_count": 26,
   "metadata": {
    "collapsed": false
   },
   "outputs": [],
   "source": [
    "###Import all keys\n",
    "def port_keys(keys_,table_):\n",
    "    for k in keys_:\n",
    "        if k not in table_.keys():\n",
    "            table_[k] = len(table_.keys())\n"
   ]
  },
  {
   "cell_type": "code",
   "execution_count": 541,
   "metadata": {
    "collapsed": true
   },
   "outputs": [],
   "source": [
    "def eleminate_delimeters(inst_set):\n",
    "    for x in ['\\t','\\n']:\n",
    "        for ind in range(len(inst_set)):\n",
    "#             print(inst_set[ind])\n",
    "            inst_set[ind] = inst_set[ind].replace(x,'')\n",
    "#             inst_set[ind] = re.sub(r'^\\s+',r'',inst_set[ind])\n",
    "            inst_set[ind] = re.split('\\s*;.*',inst_set[ind])[0]\n",
    "#             print(inst_set[ind])\n",
    "    try:\n",
    "        while inst_set.index(''):\n",
    "            inst_set.remove('')\n",
    "    except ValueError:\n",
    "        pass"
   ]
  },
  {
   "cell_type": "code",
   "execution_count": 40,
   "metadata": {
    "collapsed": true
   },
   "outputs": [],
   "source": [
    "def map_instr(vocabluary,instr):\n",
    "    xs = [(y,x) for x,y in list(vocabluary.items())]\n",
    "    xs = dict(xs)\n",
    "    return (' '.join(list(map(lambda x:xs[x],instr))))"
   ]
  },
  {
   "cell_type": "code",
   "execution_count": 540,
   "metadata": {
    "collapsed": true
   },
   "outputs": [],
   "source": [
    "def restruct_inst(ss):\n",
    "    refill = []\n",
    "    start = -1\n",
    "    for ind in range(len(ss)):\n",
    "        if ('<' in ss[ind]) and ('>' not in ss[ind]):\n",
    "            start=ind\n",
    "        elif start!=-1:\n",
    "            v = ' '.join(ss[start:ind+1])\n",
    "            if (v.count('<') == v.count('>')):\n",
    "                refill.append(((start,ind+1-start),v))\n",
    "                start=-1\n",
    "    delta = 0 \n",
    "    for (start,count_),val in refill:\n",
    "#         print(start,delta)\n",
    "        start-= delta\n",
    "#         print(ss)\n",
    "        for i in range(count_):\n",
    "            del ss[start]\n",
    "        delta+= count_-1\n",
    "        ss.insert(start,val)\n",
    "    return ss\n",
    "       "
   ]
  },
  {
   "cell_type": "code",
   "execution_count": 576,
   "metadata": {
    "collapsed": true
   },
   "outputs": [],
   "source": [
    "def mapping_llvm_instructions(inst_semantcs,symbolic_table):\n",
    "    ######Termination instruction::\n",
    "    inst = split_file('/root/inst_syntax.txt','ret','cleanuppad')\n",
    "    eleminate_delimeters(inst)\n",
    "    ###Termination instruct::\n",
    "    tmp_inst = ''\n",
    "    for line in inst:\n",
    "        if re.match('.*‘.*’\\sInstruction.*',line):\n",
    "            tmp_inst = re.findall('‘.*’',line)[0][1:-1].split(' ')[0]\n",
    "            inst_semantcs[tmp_inst] = []\n",
    "            continue\n",
    "        if re.match('.*{}.*'.format(tmp_inst),line):\n",
    "            str_ = re.split('\\s*;.*',line)[0]\n",
    "            str_ = re.findall('(?:<[\\w]+>(?:\\[(?:[^\\[\\]])+\\]){3,})|\\[[^\\[\\]]+\\][\\*,]*|<*[\\w\\d\\*]+>*\\{+.*\\}+[\\*,\\+]*|<*[\\w\\d\\*]+>*[\\*,\\+]*|\\.{3}',str_)\n",
    "            str_ = restruct_inst(str_)    \n",
    "            port_keys(str_,symbolic_table )\n",
    "            inst_semantcs[tmp_inst].append(list(map(lambda x: symbolic_table[x],str_)))\n",
    "        elif re.match('^\\s+.*',line):\n",
    "            str_ = re.sub(r'^\\s+',r'',line)\n",
    "            str_ = re.split('\\s*;.*',line)[0]\n",
    "            str_ = re.findall('(?:<[\\w]+>(?:\\[(?:[^\\[\\]])+\\]){3,})|\\[[^\\[\\]]+\\][\\*,]*|<*[\\w\\d\\*]+>*\\{+.*\\}+[\\*,\\+]*|<*[\\w\\d\\*]+>*[\\*,\\+]*|\\.{3}',str_)\n",
    "            str_ = restruct_inst(str_)\n",
    "            port_keys(str_,symbolic_table)\n",
    "            print(str_)\n",
    "            inst_semantcs[tmp_inst][-1]+=(list(map(lambda x: symbolic_table[x],str_)))\n",
    "            "
   ]
  },
  {
   "cell_type": "code",
   "execution_count": 577,
   "metadata": {
    "collapsed": false
   },
   "outputs": [
    {
     "name": "stdout",
     "output_type": "stream",
     "text": [
      "['[operand bundles]', 'to', 'label', '<normal label>', 'unwind', 'label', '<exception label>']\n",
      "['[operand bundles]', 'to', 'label', '<normal label>', 'or', 'jump', '[other labels]']\n",
      "['[<ty>|<fnty> <fnptrval>(<function args>)]', '[fn attrs]', '[ operand bundles ]']\n"
     ]
    }
   ],
   "source": [
    "inst_semantcs = {}\n",
    "symbolic_table = {}\n",
    "mapping_llvm_instructions(inst_semantcs,symbolic_table)"
   ]
  },
  {
   "cell_type": "code",
   "execution_count": 578,
   "metadata": {
    "collapsed": false,
    "scrolled": true
   },
   "outputs": [
    {
     "name": "stdout",
     "output_type": "stream",
     "text": [
      "‘ret’ Instruction\n",
      "‘br’ Instruction\n",
      "‘switch’ Instruction\n",
      "‘indirectbr’ Instruction\n",
      "‘invoke’ Instruction\n",
      "‘callbr’ Instruction\n",
      "‘resume’ Instruction\n",
      "‘catchswitch’ Instruction\n",
      "‘catchret’ Instruction\n",
      "‘cleanupret’ Instruction\n",
      "‘unreachable’ Instruction\n",
      "‘fneg’ Instruction\n",
      "‘add’ Instruction\n",
      "‘fadd’ Instruction\n",
      "‘sub’ Instruction\n",
      "‘fsub’ Instruction\n",
      "‘mul’ Instruction\n",
      "‘fmul’ Instruction\n",
      "‘udiv’ Instruction\n",
      "‘sdiv’ Instruction\n",
      "‘fdiv’ Instruction\n",
      "‘urem’ Instruction\n",
      "‘srem’ Instruction\n",
      "‘frem’ Instruction\n",
      "‘shl’ Instruction\n",
      "‘lshr’ Instruction\n",
      "‘ashr’ Instruction\n",
      "‘and’ Instruction\n",
      "‘or’ Instruction\n",
      "‘or’ Instruction\n",
      "‘xor’ Instruction\n",
      "‘extractelement’ Instruction\n",
      "‘insertelement’ Instruction\n",
      "‘shufflevector’ Instruction\n",
      "‘extractvalue’ Instruction\n",
      "‘insertvalue’ Instruction\n",
      "‘alloca’ Instruction\n",
      "‘load’ Instruction\n",
      "‘store’ Instruction\n",
      "‘fence’ Instruction\n",
      "‘cmpxchg’ Instruction\n",
      "‘atomicrmw’ Instruction\n",
      "‘getelementptr’ Instruction\n",
      "‘trunc .. to’ Instruction\n",
      "‘zext .. to’ Instruction\n",
      "‘sext .. to’ Instruction\n",
      "‘fptrunc .. to’ Instruction\n",
      "‘fpext .. to’ Instruction\n",
      "‘fptoui .. to’ Instruction\n",
      "‘fptosi .. to’ Instruction\n",
      "‘uitofp .. to’ Instruction\n",
      "‘sitofp .. to’ Instruction\n",
      "‘ptrtoint .. to’ Instruction\n",
      "‘inttoptr .. to’ Instruction\n",
      "‘bitcast .. to’ Instruction\n",
      "‘addrspacecast .. to’ Instruction\n",
      "‘icmp’ Instruction\n",
      "‘fcmp’ Instruction\n",
      "‘phi’ Instruction\n",
      "‘select’ Instruction\n",
      "‘call’ Instruction\n",
      "‘va_arg’ Instruction\n",
      "‘landingpad’ Instruction\n",
      "‘catchpad’ Instruction\n",
      "‘cleanuppad’ Instruction\n"
     ]
    }
   ],
   "source": [
    "full_file = []\n",
    "with open('/root/inst_syntax.txt','r') as file:\n",
    "    for line in file:\n",
    "        full_file.append(line)\n",
    "eleminate_delimeters(full_file)\n",
    "\n",
    "ind = 0\n",
    "transf_instr = []\n",
    "problem_instr = {}\n",
    "while (ind!=len(full_file)):\n",
    "    if re.match('.*‘.*’\\sInstruction.*',full_file[ind]):\n",
    "        inst_ = re.findall('‘.*’',full_file[ind])[0][1:-1].split(' ')[0]\n",
    "        print(full_file[ind])\n",
    "#         print('Pretender:')\n",
    "        transf_instr = (list(map(lambda x :map_instr(symbolic_table,x),inst_semantcs[inst_])))\n",
    "        transf_instr.reverse()\n",
    "        transf_instr = list(map(lambda x :re.sub(r'(<result(val)*>)',r'\\1 =',x),transf_instr))\n",
    "    else:\n",
    "        try:\n",
    "#           \n",
    "            gage = full_file[ind]\n",
    "            ment_inst = transf_instr.pop()\n",
    "            if (ind+1!=len(full_file)) and re.match(r'^\\s+.*',full_file[ind+1]):\n",
    "                gage+=' '+re.sub(r'^\\s+',r'',full_file[ind+1])\n",
    "                ind+=1\n",
    "            assert gage == ment_inst\n",
    "        except IndexError:\n",
    "            print('Out of boundaries')\n",
    "            try:\n",
    "                problem_instr[inst_].append((gage,))\n",
    "            except KeyError:\n",
    "                problem_instr[inst_] = [(gage,)]\n",
    "        except AssertionError:\n",
    "            print('{0} in example {1} and condender {2}'.format(inst_,gage,ment_inst))\n",
    "            try:\n",
    "                problem_instr[inst_].append((gage,ment_inst))\n",
    "            except KeyError:\n",
    "                problem_instr[inst_] = [(gage,ment_inst)]\n",
    "    ind+=1\n",
    "        "
   ]
  },
  {
   "cell_type": "code",
   "execution_count": 579,
   "metadata": {
    "collapsed": false
   },
   "outputs": [
    {
     "data": {
      "text/plain": [
       "0"
      ]
     },
     "execution_count": 579,
     "metadata": {},
     "output_type": "execute_result"
    }
   ],
   "source": [
    "len(problem_instr)"
   ]
  }
 ],
 "metadata": {
  "anaconda-cloud": {},
  "kernelspec": {
   "display_name": "Python [conda env:anaconda3]",
   "language": "python",
   "name": "conda-env-anaconda3-py"
  },
  "language_info": {
   "codemirror_mode": {
    "name": "ipython",
    "version": 3
   },
   "file_extension": ".py",
   "mimetype": "text/x-python",
   "name": "python",
   "nbconvert_exporter": "python",
   "pygments_lexer": "ipython3",
   "version": "3.5.2"
  }
 },
 "nbformat": 4,
 "nbformat_minor": 1
}
