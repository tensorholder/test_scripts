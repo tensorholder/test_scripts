{
 "cells": [
  {
   "cell_type": "code",
   "execution_count": 45,
   "metadata": {},
   "outputs": [],
   "source": [
    "from selenium import webdriver\n",
    "from selenium.webdriver.common.keys import Keys\n",
    "import re\n",
    "import os\n",
    "import time\n",
    "import numpy as np\n",
    "site = \"https://llvm.org/docs/LangRef.html\"\n",
    "driver = webdriver.Chrome()\n",
    "driver.get(site)\n",
    "initdir = os.getcwd()+'/'\n",
    "libz_ = '../libs/'\n",
    "el_synt = lambda synt: '\\t\\t'+synt.text.splitlines()[0]+'\\n'+'\\n'.join(list(map(lambda x : \"\\t\\t\\t\"+x,synt.text.splitlines()[1:])))\n",
    "splt_w_scope = r'\\s\\:*\\=*\\s*'\n",
    "scope = r'\\[[^\\[\\]]+\\]'\n",
    "from tqdm import tqdm"
   ]
  },
  {
   "cell_type": "code",
   "execution_count": 46,
   "metadata": {},
   "outputs": [],
   "source": [
    "def constr_exp(obj,id1,id2):\n",
    "    r_obj = []\n",
    "    ind = 0 \n",
    "    c_id1 = 0 \n",
    "    c_id2 = 0\n",
    "    c_el = ''\n",
    "    while(ind!=len(obj)):\n",
    "        if id1 in obj[ind]:\n",
    "            c_id1+=re.findall(id1,obj[ind]).__len__()\n",
    "            if id2 in obj[ind]:\n",
    "                c_id2+=re.findall(id2,obj[ind]).__len__()\n",
    "            c_el+=obj[ind]+' '\n",
    "            if c_id1==c_id2:\n",
    "                r_obj.append(c_el[:-1])\n",
    "                c_id1 = 0\n",
    "                c_id2 = 0\n",
    "                c_el = ''\n",
    "        elif id2 in obj[ind]:\n",
    "            c_id2+=re.findall(id2,obj[ind]).__len__()\n",
    "            c_el+=obj[ind]+' '\n",
    "            if c_id1==c_id2:\n",
    "                r_obj.append(c_el[:-1])\n",
    "                c_id1 = 0\n",
    "                c_id2 = 0\n",
    "                c_el = ''\n",
    "        elif c_id1!=c_id2:\n",
    "            c_el+=obj[ind]+' '\n",
    "        else:\n",
    "            r_obj.append(obj[ind])\n",
    "        ind+=1  \n",
    "    return r_obj "
   ]
  },
  {
   "cell_type": "code",
   "execution_count": 53,
   "metadata": {
    "scrolled": true
   },
   "outputs": [
    {
     "name": "stderr",
     "output_type": "stream",
     "text": [
      " 11%|█         | 1/9 [00:04<00:32,  4.06s/it]"
     ]
    },
    {
     "name": "stdout",
     "output_type": "stream",
     "text": [
      "\tunreachable-instruction\n",
      "\n",
      "\tunreachable-instruction\n",
      "\n"
     ]
    },
    {
     "name": "stderr",
     "output_type": "stream",
     "text": [
      "100%|██████████| 9/9 [00:24<00:00,  2.76s/it]\n"
     ]
    }
   ],
   "source": [
    "container = driver.find_element_by_id(\"instruction-reference\")\n",
    "with open(initdir+'pass.dmb','wt') as file:\n",
    "    for section in tqdm.tqdm(container.find_elements_by_xpath(\".//div[contains(@id,'instructions') or contains(@id,'operations')]\")):\n",
    "        file.write(section.get_attribute('id')+'\\n')\n",
    "        for instr in section.find_elements_by_xpath(\".//div[contains(@id,'-instruction') or contains(@id,'-operation')]\"):\n",
    "            file.write('\\t'+instr.get_attribute('id')+'\\n')\n",
    "            synt = instr.find_element_by_xpath(\".//a[contains(text(),'Syntax:')]\").find_element_by_xpath('../..')\n",
    "            file.write(el_synt(synt)+'\\n')\n",
    "            try:\n",
    "                args = instr.find_element_by_xpath(\".//a[contains(text(),'Arguments:')]\").find_element_by_xpath('../..')\n",
    "                file.write(el_synt(args)+'\\n')\n",
    "            except Exception as e:\n",
    "                file.write('\\t\\tArguments:\\n')\n",
    "                print('\\t'+instr.get_attribute('id')+'\\n')\n",
    "            ovr = instr.find_element_by_xpath(\".//a[contains(text(),'Overview:')]\").find_element_by_xpath('../..')\n",
    "            file.write(el_synt(ovr)+'\\n')\n",
    "            try:\n",
    "                exp = instr.find_element_by_xpath(\".//a[contains(text(),'Example:') or contains(text(),'Examples:')]\").find_element_by_xpath('../..')\n",
    "                file.write(el_synt(exp)+'\\n')\n",
    "            except Exception as e:\n",
    "                file.write('\\t\\tExample:\\n')\n",
    "                print('\\t'+instr.get_attribute('id')+'\\n')\n",
    "    "
   ]
  },
  {
   "cell_type": "code",
   "execution_count": 54,
   "metadata": {},
   "outputs": [],
   "source": [
    "inst_gp = {}\n",
    "curr_gp = \"\"\n",
    "curr_inst = \"\"\n",
    "ind = 0\n",
    "with open(initdir+'pass.dmb','r') as file:\n",
    "    obj = file.readlines()\n",
    "    while(ind!=len(obj)):\n",
    "        if re.match(r\"[^\\t]+\",obj[ind]):\n",
    "            inst_gp[obj[ind][:-1]] = {}\n",
    "            curr_gp = obj[ind][:-1]\n",
    "        elif re.match(r\"\\t\\tSyntax\\:\",obj[ind]):\n",
    "                inst_gp[curr_gp][curr_inst]['synt'] = []\n",
    "                while(re.match('\\t\\t\\t.*',obj[ind+1])):\n",
    "                    ind+=1\n",
    "                    inst_gp[curr_gp][curr_inst]['synt'].append(obj[ind][3:-1])\n",
    "        elif re.match(r\"\\t\\tArguments\\:\",obj[ind]):\n",
    "                inst_gp[curr_gp][curr_inst]['args'] = []\n",
    "                while(re.match('\\t\\t\\t.*',obj[ind+1])):\n",
    "                    ind+=1\n",
    "                    inst_gp[curr_gp][curr_inst]['args'].append(obj[ind][3:-1])\n",
    "        elif re.match(r\"\\t\\tOverview\\:\",obj[ind]):\n",
    "                inst_gp[curr_gp][curr_inst]['overview'] = []\n",
    "                while(re.match('\\t\\t\\t.*',obj[ind+1])):\n",
    "                    ind+=1\n",
    "                    inst_gp[curr_gp][curr_inst]['overview'].append(obj[ind][3:-1])\n",
    "        elif re.match(r\"\\t\\tExamples*\\:\",obj[ind]):\n",
    "                inst_gp[curr_gp][curr_inst]['exm'] = []\n",
    "                while((ind+1)<len(obj) and re.match('\\t\\t\\t.*',obj[ind+1])):\n",
    "                    ind+=1\n",
    "                    inst_gp[curr_gp][curr_inst]['exm'].append(obj[ind][3:-1])\n",
    "        elif re.match(r\"\\t.+\",obj[ind]):\n",
    "            inst_gp[curr_gp][obj[ind][1:-1]] = {}\n",
    "            curr_inst = obj[ind][1:-1]\n",
    "        ind+=1            "
   ]
  },
  {
   "cell_type": "code",
   "execution_count": 55,
   "metadata": {
    "scrolled": true
   },
   "outputs": [
    {
     "name": "stdout",
     "output_type": "stream",
     "text": [
      "9\n",
      "terminator-instructions\n",
      "unary-operations\n",
      "binary-operations\n",
      "bitwise-binary-operations\n",
      "vector-operations\n",
      "aggregate-operations\n",
      "memory-access-and-addressing-operations\n",
      "conversion-operations\n",
      "other-operations\n"
     ]
    }
   ],
   "source": [
    "print(list(inst_gp.keys()).__len__())\n",
    "for line in list(inst_gp.keys()):\n",
    "    print(line)"
   ]
  },
  {
   "cell_type": "code",
   "execution_count": 65,
   "metadata": {},
   "outputs": [],
   "source": [
    "projections = {}\n",
    "for prj in inst_gp:\n",
    "    projections[prj] = {}\n",
    "    for inst,det in inst_gp[prj].items():\n",
    "            projections[prj][inst] = {'pttrn':[]}\n",
    "            for sline in det['synt']:\n",
    "                sline = re.sub(r'\\s+',' ',sline)\n",
    "                sline = re.split(r'\\s*;\\s*',sline )[0]\n",
    "                projections[prj][inst]['opt'] = re.findall(r'\\[.[^\\[\\]]*\\]\\**',sline)\n",
    "                sline = re.sub(r'\\[.[^\\[\\]]*\\]\\**','',sline)\n",
    "                sline = re.sub(r'\\s+',' ',sline)\n",
    "                \n",
    "                prj_ = np.array(re.split(splt_w_scope,sline))\n",
    "                if '=' in sline:\n",
    "                    np.put(prj_,[0,1],[prj_[1],prj_[0]])\n",
    "                prj_ = prj_.tolist()    \n",
    "                for t,r in [('\\<','\\>'),('\\{','\\}'),('\\(','\\)')]:\n",
    "                    prj_ = constr_exp(prj_,t,r)\n",
    "                projections[prj][inst]['pttrn']+=[prj_]\n",
    "#                 print(sline)\n",
    "#                 print(prj_)\n",
    "                \n",
    "\n"
   ]
  },
  {
   "cell_type": "markdown",
   "metadata": {},
   "source": [
    "## Instruction group relation"
   ]
  },
  {
   "cell_type": "code",
   "execution_count": 66,
   "metadata": {},
   "outputs": [
    {
     "name": "stdout",
     "output_type": "stream",
     "text": [
      "ret-instruction\n",
      "br-instruction\n",
      "invoke-instruction\n",
      "callbr-instruction\n",
      "catchswitch-instruction\n",
      "cleanupret-instruction\n",
      "add-instruction\n",
      "sub-instruction\n",
      "mul-instruction\n",
      "udiv-instruction\n",
      "sdiv-instruction\n",
      "shl-instruction\n",
      "lshr-instruction\n",
      "ashr-instruction\n",
      "extractelement-instruction\n",
      "insertelement-instruction\n",
      "shufflevector-instruction\n",
      "load-instruction\n",
      "store-instruction\n",
      "getelementptr-instruction\n",
      "select-instruction\n",
      "call-instruction\n",
      "landingpad-instruction\n"
     ]
    }
   ],
   "source": [
    "gp_projection = {}\n",
    "for gp_ in projections:\n",
    "    for pj_ in projections[gp_]:\n",
    "        gp_projection[pj_] = {'group':gp_}\n",
    "        if projections[gp_][pj_]['pttrn'].__len__()>1:\n",
    "            print(pj_)\n",
    "        gp_projection[pj_]['ptr'] = projections[gp_][pj_]['pttrn']\n",
    "        gp_projection[pj_]['opt'] = projections[gp_][pj_]['opt']\n",
    "# gp_projection"
   ]
  },
  {
   "cell_type": "code",
   "execution_count": null,
   "metadata": {},
   "outputs": [],
   "source": [
    "def check_correctness(ptrn):\n",
    "    to_check = [('>','<'),('(',')'),('{','}')]\n",
    "    for each in ptrn:\n",
    "        lem = np.array(list(each))\n",
    "        sign,count = np.unique(lem,return_counts=True)\n",
    "        ex = dict(zip(sign,count))\n",
    "        for r_,l_ in to_check:\n",
    "            if r_ in each and l_ in each:\n",
    "                lem = np.array(list(each))\n",
    "                sign,count = np.unique(lem,return_counts=True)\n",
    "                ex = dict(zip(sign,count))\n",
    "                if ex[r_]!=ex[l_]:\n",
    "                    print(each)\n",
    "            elif reduce(lambda x,y: x or y,list(map(lambda x:x in )),FAlse)\n"
   ]
  },
  {
   "cell_type": "code",
   "execution_count": 12,
   "metadata": {},
   "outputs": [
    {
     "data": {
      "text/plain": [
       "{'a': 3, 'd': 1, 's': 1}"
      ]
     },
     "execution_count": 12,
     "metadata": {},
     "output_type": "execute_result"
    }
   ],
   "source": [
    "a = list('asdaa')\n",
    "a = np.array(a)\n",
    "lem,count = np.unique(a,return_counts=True)"
   ]
  },
  {
   "cell_type": "code",
   "execution_count": 6,
   "metadata": {},
   "outputs": [
    {
     "data": {
      "text/plain": [
       "(array(['asdasdasd'], dtype='<U9'), array([1]))"
      ]
     },
     "execution_count": 6,
     "metadata": {},
     "output_type": "execute_result"
    }
   ],
   "source": [
    "import numpy as np\n",
    "a= np.array('a','s')\n",
    "np.unique(a,return_counts=True)"
   ]
  },
  {
   "cell_type": "code",
   "execution_count": 61,
   "metadata": {},
   "outputs": [
    {
     "data": {
      "text/plain": [
       "'/home/dope/Documents/thesis/thesis/DataScience-Scripts/../libs/pass_struct.dmp'"
      ]
     },
     "execution_count": 61,
     "metadata": {},
     "output_type": "execute_result"
    }
   ],
   "source": [
    "initdir+libz_+'pass_struct.dmp'"
   ]
  },
  {
   "cell_type": "code",
   "execution_count": 69,
   "metadata": {},
   "outputs": [],
   "source": [
    "passes_info = {'pass-group':gp_projection,'group-pass':projections,'pass-info':inst_gp}\n",
    "pickle.dump(passes_info,open(initdir+libz_+'pass_struct.dmp','wb'))"
   ]
  }
 ],
 "metadata": {
  "kernelspec": {
   "display_name": "Python 3",
   "language": "python",
   "name": "python3"
  },
  "language_info": {
   "codemirror_mode": {
    "name": "ipython",
    "version": 3
   },
   "file_extension": ".py",
   "mimetype": "text/x-python",
   "name": "python",
   "nbconvert_exporter": "python",
   "pygments_lexer": "ipython3",
   "version": "3.7.4"
  }
 },
 "nbformat": 4,
 "nbformat_minor": 2
}
