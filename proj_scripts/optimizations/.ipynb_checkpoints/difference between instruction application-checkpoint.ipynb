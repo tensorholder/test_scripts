{
 "cells": [
  {
   "cell_type": "code",
   "execution_count": 2,
   "metadata": {},
   "outputs": [],
   "source": [
    "import os\n",
    "import sys\n",
    "import pickle\n",
    "initdir = os.getcwd()+'/' \n",
    "libz_ = './../../libs/'\n",
    "sys.path.append('./../../libs/')\n",
    "os.chdir(initdir+libz_)\n",
    "opt_order = pickle.load(open('order.dmp','rb'))\n",
    "true_order = pickle.load(open('true_order.dmp','rb'))\n",
    "sz_lvl = pickle.load(open('trv.dmp','rb'))\n",
    "pass_info = pickle.load(open('pass_struct.dmp','rb'))\n",
    "from sql_connection import mysql_connection\n",
    "from sel_feature import diff_pass\n",
    "from make import opts_lvl\n",
    "from tqdm import tqdm\n",
    "os.chdir(initdir)\n",
    "large_dir = initdir+\"./../../../Unix_Source/unix_cmp/\"\n",
    "small_dir = initdir+\"./../../../Unix_Source/unix_small_2/\"\n",
    "opts = ['opt_O%s' % i for i in ['1','2','3','s','z']]\n",
    "prv_ind = {'opt_O2': 25, 'opt_O3': 8, 'opt_Os': 105, 'opt_Oz': 297, 'opt_O1': -1}\n",
    "s_ind = {'opt_O1': 2, 'opt_O2': 97, 'opt_O3': 157, 'opt_Os': 263, 'opt_Oz': 373}\n",
    "import re\n",
    "from functools import reduce\n",
    "import pandas as pd"
   ]
  },
  {
   "cell_type": "code",
   "execution_count": 3,
   "metadata": {},
   "outputs": [],
   "source": [
    "class Source:\n",
    "    signals = []\n",
    "    def printt(sig,src):\n",
    "        if sig not in Source.signals:\n",
    "            print(src)"
   ]
  },
  {
   "cell_type": "code",
   "execution_count": 4,
   "metadata": {
    "scrolled": false
   },
   "outputs": [],
   "source": [
    "pass_structure = pd.DataFrame(columns=['name','synt','args','desc','pttrns','opt','gp','num','eq'])\n",
    "for group in pass_info['pass-info']:\n",
    "    for inst,det in pass_info['pass-info'][group].items():\n",
    "        pass_structure = pass_structure.append({'name':inst,'synt':det['synt'],'args':det['args'],'desc':det['overview'],'gp':group,'num':det['synt'].__len__(),'eq':reduce(lambda x,y:x or y,list(map(lambda x: '=' in x,det['synt'])),False)}\n",
    "                                               ,ignore_index=True)\n",
    "pass_structure = pass_structure.set_index('name')\n",
    "del pass_structure.index.name\n",
    "\n",
    "for pass_ in pass_info['pass-group']:\n",
    "    pass_structure.loc[pass_]['opt'] = pass_info['pass-group'][pass_]['opt']\n",
    "    pass_structure.loc[pass_]['pttrns'] = pass_info['pass-group'][pass_]['ptr']\n",
    "pickle.dump(pass_structure,open(initdir+libz_+'pass_fullinfo.dmp','wb'))"
   ]
  },
  {
   "cell_type": "code",
   "execution_count": 5,
   "metadata": {},
   "outputs": [],
   "source": [
    "pass_structure = pickle.load(open(initdir+libz_+'pass_fullinfo.dmp','rb'))\n",
    "ac_pass = list(map(lambda x:x.split('-')[0],pass_structure.index.tolist()))"
   ]
  },
  {
   "cell_type": "markdown",
   "metadata": {},
   "source": [
    "## Detecting pass id"
   ]
  },
  {
   "cell_type": "code",
   "execution_count": 21,
   "metadata": {},
   "outputs": [],
   "source": [
    "id_passes = {}\n",
    "conn = mysql_connection(db_='files')\n",
    "cursor = conn.cursor()\n",
    "try:\n",
    "    for lvl in true_order:\n",
    "        id_passes[lvl] = {}\n",
    "        for option in true_order[lvl]['order']:\n",
    "            cursor.execute(\"SELECT ID FROM OPTS_LVL WHERE NAME='%s' AND OPT_ID=(SELECT ID FROM OPTIONS WHERE NAME='%s')\" %(lvl,option))\n",
    "            id_passes[lvl][option] = cursor.fetchone()[0]\n",
    "except Exception as e:\n",
    "    print(e)\n",
    "    conn.close()\n",
    "finally:\n",
    "    conn.close()\n",
    "pickle.dump(id_passes,open(initdir+libz_+'id_passes_db','wb'))"
   ]
  },
  {
   "cell_type": "code",
   "execution_count": 6,
   "metadata": {},
   "outputs": [],
   "source": [
    "id_passes = pickle.load(open(initdir+libz_+'id_passes_db','rb'))"
   ]
  },
  {
   "cell_type": "code",
   "execution_count": 8,
   "metadata": {},
   "outputs": [
    {
     "name": "stderr",
     "output_type": "stream",
     "text": [
      "100%|██████████| 21/21 [00:08<00:00,  2.56it/s]\n"
     ]
    }
   ],
   "source": [
    "diff_ss = {}\n",
    "for file in tqdm(os.listdir(small_dir)):\n",
    "    conn = mysql_connection(db_='files')\n",
    "    cursor = conn.cursor()\n",
    "    if os.path.isdir(small_dir+file):\n",
    "        diff_ss[file] = {}\n",
    "        c_file = {}\n",
    "        cursor.execute(\"SELECT ID FROM TARGET WHERE PG_ID = (SELECT ID FROM PG WHERE PG_NAME='%s')\" %file)\n",
    "        targ_id = cursor.fetchone()[0]\n",
    "        cursor.execute(\"SELECT LL_ID FROM RL_LL WHERE TARGET_ID=%s\" %(targ_id))\n",
    "        ll_id = cursor.fetchone()[0]\n",
    "        cursor.execute(\"SELECT DATA FROM ETALON_DATA WHERE RL_LL_ID=%s\" %(ll_id))\n",
    "        c_file[-1] = {'file':cursor.fetchone()[0],'size':0}\n",
    "        for lvl_opt in opt_order:\n",
    "            for num in true_order[lvl_opt]['order']:\n",
    "                cursor.execute(\"SELECT ID FROM OPTS_LVL WHERE NAME='%s' AND OPT_ID=(SELECT ID FROM OPTIONS WHERE NAME='%s')\" %(lvl_opt,num))\n",
    "                id_pass = cursor.fetchone()[0]\n",
    "                cursor.execute(\"SELECT SIZE FROM TARGET_RES WHERE TARGET_ID=%s AND OPT_LVL_ID=%s\" %(targ_id,id_pass))\n",
    "                c_file[id_pass] ={'size':cursor.fetchone()[0]}\n",
    "                cursor.execute(\"SELECT APPLIED_DATA FROM OPTS_DATA WHERE DATA_ID = (SELECT DATA_ID FROM MAIN_QUERY WHERE RL_LL_ID=%s and OPT_LVL_ID=%s)\" %(ll_id,id_pass)) \n",
    "                c_file[id_pass] = {'file':cursor.fetchone()[0]}\n",
    "        p_c = 2\n",
    "        diff_ss[file]['diff'] = {}\n",
    "        diff_ss[file]['reply'] = {}\n",
    "        for lvl_opt in opts_lvl:\n",
    "            c_file[s_ind[lvl_opt]-1] = c_file[prv_ind[lvl_opt]]\n",
    "            p_c += sz_lvl[lvl_opt]['size'] \n",
    "            for _opt in (true_order[lvl_opt]['order']):\n",
    "                diff_ss[file]['diff'][id_passes[lvl_opt][_opt]],diff_ss[file]['reply'][id_passes[lvl_opt][_opt]] = diff_pass(c_file[p_c-1]['file'].splitlines(),c_file[p_c]['file'].splitlines(),str(p_c-1),str(p_c))\n",
    "                p_c+= 1\n",
    "\n",
    "pickle.dump(diff_ss,open(initdir+'sm_dir_fts.dmp','wb'))       "
   ]
  },
  {
   "cell_type": "code",
   "execution_count": 7,
   "metadata": {},
   "outputs": [],
   "source": [
    "diff_ss = pickle.load(open(initdir+'sm_dir_fts.dmp','rb'))"
   ]
  },
  {
   "cell_type": "code",
   "execution_count": 8,
   "metadata": {},
   "outputs": [],
   "source": [
    "Source.signals = [8015,8153,3689,5921,9010]"
   ]
  },
  {
   "cell_type": "code",
   "execution_count": null,
   "metadata": {},
   "outputs": [],
   "source": [
    "for file in diff_ss:\n",
    "    rep_ = diff_ss[file]['reply']\n",
    "    for opt_lvl in rep_:\n",
    "        xs = rep_[opt_lvl]\n",
    "        for ind in range(len(xs)):\n",
    "            print(ind,xs[ind])\n",
    "        break\n",
    "    break\n",
    "        "
   ]
  },
  {
   "cell_type": "code",
   "execution_count": null,
   "metadata": {},
   "outputs": [],
   "source": [
    "def map_pass(pass_,str_pss_,table):\n",
    "    pd.DataFrame(columns=['var','type','=','pname','в_arg','allign','flags'])\n",
    "    for ptr in table[pass_]['pttrns']:\n",
    "        if ptr.__len__() == len(str_pss_):\n",
    "            print(ptr,str_pss_)\n",
    "    else:\n",
    "        for opt in table[pass_]['opt']:\n",
    "    "
   ]
  },
  {
   "cell_type": "code",
   "execution_count": 47,
   "metadata": {},
   "outputs": [
    {
     "ename": "SyntaxError",
     "evalue": "invalid syntax (<ipython-input-47-2eb3be74791d>, line 2)",
     "output_type": "error",
     "traceback": [
      "\u001b[0;36m  File \u001b[0;32m\"<ipython-input-47-2eb3be74791d>\"\u001b[0;36m, line \u001b[0;32m2\u001b[0m\n\u001b[0;31m    if ((x=True)==True):\u001b[0m\n\u001b[0m          ^\u001b[0m\n\u001b[0;31mSyntaxError\u001b[0m\u001b[0;31m:\u001b[0m invalid syntax\n"
     ]
    }
   ],
   "source": [
    "x = False\n"
   ]
  },
  {
   "cell_type": "code",
   "execution_count": 39,
   "metadata": {
    "scrolled": true
   },
   "outputs": [],
   "source": [
    "ps_ = set()\n",
    "none_info = set()\n",
    "for file in diff_ss:\n",
    "    rep_ = diff_ss[file]['reply']\n",
    "    block = 0\n",
    "    for opt_lvl in rep_:\n",
    "        xs = rep_[opt_lvl]\n",
    "        ind = 2\n",
    "        fu_name = ''\n",
    "        args = ''\n",
    "        while ind<len(xs):\n",
    "            ##find function area\n",
    "            if 'define' in xs[ind] and '{' in xs[ind]:\n",
    "                Source.printt(9010,xs[ind])\n",
    "                args = re.split(r'\\@.+(?=\\()',xs[ind])[1]\n",
    "                fu_name = re.search(r'\\@.+(?=\\()',xs[ind])[0]\n",
    "                args = args[:re.search(r\"\\)(?:.(?!\\)))+\\{$\",args).span()[0]+1]\n",
    "            if reduce(lambda x,y : x or y,list(map(lambda x:x in xs[ind][0],['-','+'])),False):\n",
    "                Source.printt(9010,'Block:{},function:{},args:{}'.format(block,fu_name,args))\n",
    "                while True:\n",
    "                    if ind>=len(xs):\n",
    "                        break\n",
    "                    if not reduce(lambda x,y : x or y,list(map(lambda x:x in xs[ind][0],['-','+'])),False):\n",
    "                        block+=1\n",
    "                        break\n",
    "                    if (('do.' in xs[ind]) or ('if.' in xs[ind])) and re.match(r'.+\\:\\;*.*',xs[ind]):\n",
    "                        Source.printt(8015,xs[ind])\n",
    "                        ind+=1\n",
    "                        continue\n",
    "                    for symb in ['-','+']:\n",
    "                        if symb==xs[ind][0]:\n",
    "                            p_str = xs[ind]\n",
    "                            w_str = xs[ind][2:].split(symb)[1]\n",
    "                            if type(w_str)==list:\n",
    "                                w_str = symb.join(w_str)\n",
    "                                Source.printt(5921,w_str)\n",
    "                            w_str = re.sub(r'\\s{2,100}','',w_str)\n",
    "                            break\n",
    "                    if '=' in w_str :\n",
    "                        w_str = re.split(r'\\s\\=*\\s*',w_str)\n",
    "                        tmp = w_str[0]\n",
    "                        w_str[0] = w_str[1]\n",
    "                        w_str[1] = tmp\n",
    "                    else:\n",
    "                        w_str = re.split(r'\\s\\=*\\s*',w_str)  \n",
    "                    if w_str[0] not in ac_pass and ' '.join(w_str)!='':\n",
    "                        Source.printt(8153,'None informative {} strings:{},old:{}'.format(ind,w_str,p_str))\n",
    "                        none_info.add(p_str)\n",
    "                    elif ' '.join(w_str)!='':\n",
    "                        ps_.add(w_str[0])\n",
    "#                         Source.printt(6391,w_str[0])\n",
    "                    ind+=1\n",
    "            if ind<len(xs) and '}' in xs[ind]:\n",
    "                Source.printt(9010,xs[ind])\n",
    "            ind+=1                          \n",
    "\n",
    "        "
   ]
  },
  {
   "cell_type": "code",
   "execution_count": 49,
   "metadata": {},
   "outputs": [
    {
     "data": {
      "text/plain": [
       "['ret',\n",
       " 'br',\n",
       " 'switch',\n",
       " 'indirectbr',\n",
       " 'invoke',\n",
       " 'callbr',\n",
       " 'resume',\n",
       " 'catchswitch',\n",
       " 'catchret',\n",
       " 'cleanupret',\n",
       " 'unreachable',\n",
       " 'fneg',\n",
       " 'add',\n",
       " 'fadd',\n",
       " 'sub',\n",
       " 'fsub',\n",
       " 'mul',\n",
       " 'fmul',\n",
       " 'udiv',\n",
       " 'sdiv',\n",
       " 'fdiv',\n",
       " 'urem',\n",
       " 'srem',\n",
       " 'frem',\n",
       " 'shl',\n",
       " 'lshr',\n",
       " 'ashr',\n",
       " 'and',\n",
       " 'or',\n",
       " 'xor',\n",
       " 'extractelement',\n",
       " 'insertelement',\n",
       " 'shufflevector',\n",
       " 'extractvalue',\n",
       " 'insertvalue',\n",
       " 'alloca',\n",
       " 'load',\n",
       " 'store',\n",
       " 'fence',\n",
       " 'cmpxchg',\n",
       " 'atomicrmw',\n",
       " 'getelementptr',\n",
       " 'trunc',\n",
       " 'zext',\n",
       " 'sext',\n",
       " 'fptrunc',\n",
       " 'fpext',\n",
       " 'fptoui',\n",
       " 'fptosi',\n",
       " 'uitofp',\n",
       " 'sitofp',\n",
       " 'ptrtoint',\n",
       " 'inttoptr',\n",
       " 'bitcast',\n",
       " 'addrspacecast',\n",
       " 'icmp',\n",
       " 'fcmp',\n",
       " 'phi',\n",
       " 'select',\n",
       " 'freeze',\n",
       " 'call',\n",
       " 'va',\n",
       " 'landingpad',\n",
       " 'catchpad',\n",
       " 'cleanuppad']"
      ]
     },
     "execution_count": 49,
     "metadata": {},
     "output_type": "execute_result"
    }
   ],
   "source": [
    "ac_pass"
   ]
  },
  {
   "cell_type": "code",
   "execution_count": 55,
   "metadata": {},
   "outputs": [
    {
     "data": {
      "text/plain": [
       "True"
      ]
     },
     "execution_count": 55,
     "metadata": {},
     "output_type": "execute_result"
    }
   ],
   "source": [
    "'add-instruction' in  pass_structure.index"
   ]
  },
  {
   "cell_type": "code",
   "execution_count": 56,
   "metadata": {},
   "outputs": [],
   "source": [
    "search_index = []\n",
    "for pass_ in ps_:\n",
    "    if pass_+'-instruction' in pass_structure.index:\n",
    "        search_index.append(pass_+'-instruction')\n",
    "    elif pass_+'-to-instruction' in pass_structure.index:\n",
    "        search_index.append(pass_+'-to-instruction')\n",
    "    else:\n",
    "        print('Homie')\n"
   ]
  },
  {
   "cell_type": "code",
   "execution_count": null,
   "metadata": {},
   "outputs": [],
   "source": []
  }
 ],
 "metadata": {
  "kernelspec": {
   "display_name": "Python 3",
   "language": "python",
   "name": "python3"
  },
  "language_info": {
   "codemirror_mode": {
    "name": "ipython",
    "version": 3
   },
   "file_extension": ".py",
   "mimetype": "text/x-python",
   "name": "python",
   "nbconvert_exporter": "python",
   "pygments_lexer": "ipython3",
   "version": "3.7.4"
  }
 },
 "nbformat": 4,
 "nbformat_minor": 2
}
