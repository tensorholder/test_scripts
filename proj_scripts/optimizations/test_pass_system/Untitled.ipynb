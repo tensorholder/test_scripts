{
 "cells": [
  {
   "cell_type": "code",
   "execution_count": 1,
   "metadata": {},
   "outputs": [],
   "source": [
    "import subprocess\n",
    "import os\n",
    "initdir = os.getcwd() +'/'\n",
    "opt_line =\"OPT_FLAG          = \"\n",
    "optdir = \"/home/dope/Documents/thesis/opt_optimzations/\"\n",
    "import re\n",
    "opts = ['-O%s' % i for i in ['1','2','3','s','z']]\n",
    "clang_opts = [\"clang%s\" %x for x in opts]\n",
    "opt_opts = [\"opt%s\" %x for x in opts]"
   ]
  },
  {
   "cell_type": "code",
   "execution_count": 4,
   "metadata": {},
   "outputs": [],
   "source": [
    "def clang_examine_str(options,files,res='out'):\n",
    "    cmd = ['clang','-fdebug-pass-arguments'] + [options] + files + ['-o',res]\n",
    "    proc = subprocess.Popen(cmd,stderr=subprocess.PIPE,stdout=subprocess.PIPE)\n",
    "    o,e = proc.communicate()\n",
    "    if not proc.returncode:\n",
    "        return e.decode('utf-8')\n",
    "    else:\n",
    "        return e.decode('utf-8')"
   ]
  },
  {
   "cell_type": "code",
   "execution_count": 5,
   "metadata": {},
   "outputs": [],
   "source": [
    "def opt_examine_str(options):\n",
    "    _res =subprocess.check_output(\"llvm-as < /dev/null | opt {} -disable-output -debug-pass=Arguments\".format(option), stderr=subprocess.STDOUT,\n",
    "                                                       shell=True)\n",
    "    return _res.decode('utf-8')"
   ]
  },
  {
   "cell_type": "code",
   "execution_count": 7,
   "metadata": {
    "scrolled": true
   },
   "outputs": [
    {
     "name": "stdout",
     "output_type": "stream",
     "text": [
      "['RopeStrings.cpp', 'CRopeString.cpp', 'pch.cpp']\n"
     ]
    }
   ],
   "source": [
    "cpp_objs = []\n",
    "os.chdir(initdir)\n",
    "for f in os.listdir():\n",
    "    if os.path.isfile(f):\n",
    "        if os.path.splitext(f)[1]=='.cpp':\n",
    "            cpp_objs.append(f)\n",
    "print(cpp_objs)\n",
    "for option in opts:\n",
    "    with open(optdir+'clang%s' %option,'wt') as file:\n",
    "        lines = clang_examine_str(option,cpp_objs).split('\\n')\n",
    "        for ind,line in enumerate(lines):\n",
    "            if re.match(r'Pass\\sArguments\\:.+',line):\n",
    "                pass\n",
    "            else:\n",
    "                break                            \n",
    "        file.write('\\n'.join(lines[:ind]))\n",
    "\n",
    "for option in opts:\n",
    "    with open(optdir+'opt%s' %option,'wt') as op_file:\n",
    "        lines = opt_examine_str(option)\n",
    "        op_file.write(lines)\n",
    "    "
   ]
  },
  {
   "cell_type": "markdown",
   "metadata": {},
   "source": [
    "## O2 test"
   ]
  },
  {
   "cell_type": "code",
   "execution_count": 11,
   "metadata": {},
   "outputs": [],
   "source": [
    "def ret_files(option):\n",
    "    cl_file = open('clang%s' %option,'r').readlines()\n",
    "    o_file = open('clang%s' %option,'r').readlines()\n",
    "    return [cl_file,o_file]"
   ]
  },
  {
   "cell_type": "code",
   "execution_count": 35,
   "metadata": {},
   "outputs": [],
   "source": [
    "os.chdir(optdir)\n",
    "for op in opts:\n",
    "    clang_,opt_ = ret_files(op)\n",
    "    for i in [0,1,2,3,4]:\n",
    "        c_main,o_main = re.split(r'Pass\\sArguments\\:\\s+',clang_[i][:-1])[1].split(' '),re.split(r'Pass\\sArguments\\:\\s+',opt_[i][:-1])[1].split(' ')\n",
    "        for ind in range(len(c_main)):\n",
    "            if(c_main[ind] == o_main[ind]):\n",
    "                pass\n",
    "            else:\n",
    "                print(ind)"
   ]
  },
  {
   "cell_type": "code",
   "execution_count": 66,
   "metadata": {},
   "outputs": [],
   "source": [
    "not_found = []\n",
    "os.chdir(optdir)\n",
    "res_ =subprocess.check_output(\"opt --help\".format(option), stderr=subprocess.STDOUT,\n",
    "                                                       shell=True)\n",
    "opt_help = res_.decode('utf-8').split('\\n')\n",
    " \n",
    "for option in re.split(r'Pass\\sArguments\\:\\s+',clang_[5][:-1])[1].split(' '):\n",
    "    is_find = False\n",
    "    op = option.replace('-','\\\\-')\n",
    "    for h in opt_help:\n",
    "        if re.search(r'{}'.format(op),h):\n",
    "            is_find = True\n",
    "            break\n",
    "    if not is_find:\n",
    "        not_found.append(option)\n",
    "        "
   ]
  },
  {
   "cell_type": "code",
   "execution_count": 69,
   "metadata": {},
   "outputs": [
    {
     "data": {
      "text/plain": [
       "['-machinemoduleinfo',\n",
       " '-collector-metadata',\n",
       " '-gc-lowering',\n",
       " '-shadow-stack-gc-lowering',\n",
       " '-stack-protector',\n",
       " '-finalize-isel',\n",
       " '-lazy-machine-block-freq',\n",
       " '-early-tailduplication',\n",
       " '-opt-phis',\n",
       " '-stack-coloring',\n",
       " '-localstackalloc',\n",
       " '-dead-mi-elimination',\n",
       " '-early-ifcvt',\n",
       " '-lazy-machine-block-freq',\n",
       " '-machine-combiner',\n",
       " '-early-machinelicm',\n",
       " '-machine-cse',\n",
       " '-machine-sink',\n",
       " '-peephole-opt',\n",
       " '-dead-mi-elimination',\n",
       " '-lrshrink',\n",
       " '-lazy-machine-block-freq',\n",
       " '-detect-dead-lanes',\n",
       " '-processimpdefs',\n",
       " '-unreachable-mbb-elimination',\n",
       " '-livevars',\n",
       " '-phi-node-elimination',\n",
       " '-twoaddressinstruction',\n",
       " '-simple-register-coalescing',\n",
       " '-rename-independent-subregs',\n",
       " '-machine-scheduler',\n",
       " '-livedebugvars',\n",
       " '-livestacks',\n",
       " '-spill-code-placement',\n",
       " '-lazy-machine-block-freq',\n",
       " '-machine-opt-remark-emitter',\n",
       " '-greedy',\n",
       " '-virtregrewriter',\n",
       " '-stack-slot-coloring',\n",
       " '-machine-cp',\n",
       " '-machinelicm',\n",
       " '-postra-machine-sink',\n",
       " '-lazy-machine-block-freq',\n",
       " '-machine-opt-remark-emitter',\n",
       " '-shrink-wrap',\n",
       " '-prologepilog',\n",
       " '-branch-folder',\n",
       " '-lazy-machine-block-freq',\n",
       " '-tailduplication',\n",
       " '-machine-cp',\n",
       " '-postrapseudos',\n",
       " '-post-RA-sched',\n",
       " '-gc-analysis',\n",
       " '-block-placement',\n",
       " '-fentry-insert',\n",
       " '-xray-instrumentation',\n",
       " '-patchable-function',\n",
       " '-break-false-deps',\n",
       " '-lazy-machine-block-freq',\n",
       " '-lazy-machine-block-freq',\n",
       " '-funclet-layout',\n",
       " '-stackmap-liveness',\n",
       " '-livedebugvalues',\n",
       " '-cfi-instr-inserter',\n",
       " '-lazy-machine-block-freq',\n",
       " '-machine-opt-remark-emitte']"
      ]
     },
     "execution_count": 69,
     "metadata": {},
     "output_type": "execute_result"
    }
   ],
   "source": [
    "not_found"
   ]
  }
 ],
 "metadata": {
  "kernelspec": {
   "display_name": "Python 3",
   "language": "python",
   "name": "python3"
  },
  "language_info": {
   "codemirror_mode": {
    "name": "ipython",
    "version": 3
   },
   "file_extension": ".py",
   "mimetype": "text/x-python",
   "name": "python",
   "nbconvert_exporter": "python",
   "pygments_lexer": "ipython3",
   "version": "3.7.4"
  }
 },
 "nbformat": 4,
 "nbformat_minor": 2
}
