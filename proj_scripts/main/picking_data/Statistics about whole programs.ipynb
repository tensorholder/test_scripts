{
 "cells": [
  {
   "cell_type": "code",
   "execution_count": 40,
   "metadata": {},
   "outputs": [],
   "source": [
    "import os\n",
    "absdir = \"/home/dope/Documents/thesis/Unix_Source/\"\n",
    "from pyunpack import Archive\n",
    "import subprocess\n",
    "import shutil\n",
    "os.chdir(absdir)\n",
    "unix_dir = ['unix_small_2/','unix_cmp/']\n",
    "from make import make_dir"
   ]
  },
  {
   "cell_type": "code",
   "execution_count": 2,
   "metadata": {},
   "outputs": [],
   "source": [
    "os.chdir(absdir)\n",
    "u_dict = []\n",
    "for unix in unix_dir:\n",
    "    os.chdir(unix)\n",
    "    u_dict.append({})\n",
    "    for prg in os.listdir():\n",
    "        if os.path.isdir(prg):\n",
    "            u_dict[-1].setdefault(prg)\n",
    "            u_dict[-1][prg] = make_dir(\"{}/{}/\".format(prg,\"source\"))\n",
    "    os.chdir(absdir)"
   ]
  },
  {
   "cell_type": "markdown",
   "metadata": {},
   "source": [
    "# Find all executables and count"
   ]
  },
  {
   "cell_type": "code",
   "execution_count": 7,
   "metadata": {},
   "outputs": [],
   "source": [
    "t_make = u_dict[1][\"Address Book (Dictionary ADT) with Hashing\"][0] + 'Makefile'\n",
    "import re"
   ]
  },
  {
   "cell_type": "code",
   "execution_count": null,
   "metadata": {},
   "outputs": [],
   "source": []
  },
  {
   "cell_type": "code",
   "execution_count": 16,
   "metadata": {},
   "outputs": [
    {
     "name": "stdout",
     "output_type": "stream",
     "text": [
      " main\n",
      "\n"
     ]
    }
   ],
   "source": [
    "with open(\"{}{}/{}\".format(absdir,\"unix_cmp\",t_make),'r') as file:\n",
    "    str_ = file.readline()\n",
    "    r = re.compile(r'^all\\:.*\\n$')\n",
    "    if r.match(str_):\n",
    "        print(r.match(str_)[0].split('all:')[1])"
   ]
  },
  {
   "cell_type": "code",
   "execution_count": 48,
   "metadata": {},
   "outputs": [],
   "source": [
    "os.chdir(absdir)"
   ]
  },
  {
   "cell_type": "code",
   "execution_count": 61,
   "metadata": {
    "scrolled": true
   },
   "outputs": [
    {
     "name": "stdout",
     "output_type": "stream",
     "text": [
      "93\n"
     ]
    }
   ],
   "source": [
    "r = re.compile(r'^all\\s*\\:.*\\n$')\n",
    "u_change = unix_dir.copy()\n",
    "u_change.reverse()\n",
    "total_count = 0\n",
    "for unix in u_dict:\n",
    "    os.chdir(u_change.pop())\n",
    "    for prg in unix:\n",
    "        with open(unix[prg][0]+'Makefile','r') as \n",
    "        file:\n",
    "            str_ = file.readline()\n",
    "            if r.match(str_):\n",
    "                count_ = re.split(r'^all\\s*\\:',str_[:-1])[1]\n",
    "                total_count+=re.split(r'(?<!\\\\)\\s',count_).__len__()-1\n",
    "                file.close()\n",
    "    os.chdir(absdir)\n",
    "print(total_count)            "
   ]
  }
 ],
 "metadata": {
  "kernelspec": {
   "display_name": "Python 3",
   "language": "python",
   "name": "python3"
  },
  "language_info": {
   "codemirror_mode": {
    "name": "ipython",
    "version": 3
   },
   "file_extension": ".py",
   "mimetype": "text/x-python",
   "name": "python",
   "nbconvert_exporter": "python",
   "pygments_lexer": "ipython3",
   "version": "3.7.4"
  }
 },
 "nbformat": 4,
 "nbformat_minor": 2
}
