{
 "cells": [
  {
   "cell_type": "code",
   "execution_count": 69,
   "metadata": {},
   "outputs": [],
   "source": [
    "import os\n",
    "import pandas as pd\n",
    "import numpy as np\n",
    "import subprocess\n",
    "import re\n",
    "import pickle\n",
    "from functools import reduce\n",
    "from make import make_dir,recover_make,all_,comp_,clang_flags,make_proc,make_routine,mopt_routine,reg_name\n",
    "from make import opt_bc,opt_routine,targ_routine,phony_routine,clean_routine,select_groups\n",
    "opt_ = [\"-O%s\" %i for i in [0,1,2,3,'s','z']]\n",
    "log_name = 'to_log.file'\n",
    "res_file = 'res.new'\n",
    "res = pickle.load(open(res_file,'rb'))"
   ]
  },
  {
   "cell_type": "code",
   "execution_count": 70,
   "metadata": {},
   "outputs": [],
   "source": [
    "for opt_ in res:\n",
    "    for name_ in res[opt_]:\n",
    "        res[opt_][name_]=int(res[opt_][name_].decode('ascii')[:-1].split(' ')[0])\n",
    "#         print(res[opt_][name_])#= res[opt_][name_].en"
   ]
  },
  {
   "cell_type": "code",
   "execution_count": 72,
   "metadata": {
    "scrolled": false
   },
   "outputs": [],
   "source": [
    "seek_result = {}\n",
    "res_frame = pd.DataFrame.from_dict(res).T\n",
    "ind = res_frame.columns\n",
    "\n",
    "for i in ind:\n",
    "    tmp = res_frame[i].sort_values(ascending=True)\n",
    "    if tmp.index[0]!='-O0':\n",
    "        seek_result[i] = {'option':tmp.index[0],'size':tmp[0],'max_diff':int(tmp[-1])-int(tmp[0])}\n",
    "seek_result\n"
   ]
  },
  {
   "cell_type": "markdown",
   "metadata": {},
   "source": [
    "'Rope Strings (Input, Conversion, Output) in simplest form...': {'option': '-Oz',\n",
    "  'size': 30352,\n",
    "  'max_diff': 4096},"
   ]
  }
 ],
 "metadata": {
  "kernelspec": {
   "display_name": "Python 3",
   "language": "python",
   "name": "python3"
  },
  "language_info": {
   "codemirror_mode": {
    "name": "ipython",
    "version": 3
   },
   "file_extension": ".py",
   "mimetype": "text/x-python",
   "name": "python",
   "nbconvert_exporter": "python",
   "pygments_lexer": "ipython3",
   "version": "3.7.4"
  }
 },
 "nbformat": 4,
 "nbformat_minor": 2
}
