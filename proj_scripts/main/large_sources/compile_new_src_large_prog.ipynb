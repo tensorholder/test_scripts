{
 "cells": [
  {
   "cell_type": "code",
   "execution_count": 5,
   "metadata": {},
   "outputs": [],
   "source": [
    "import os\n",
    "absdir = \"./../../../../Unix_Source/\"\n",
    "from pyunpack import Archive\n",
    "import subprocess\n",
    "import shutil\n",
    "os.chdir(absdir)\n",
    "if not os.path.isdir('unix_cmp'):\n",
    "    os.mkdir('unix_cmp')\n",
    "from shutil import copyfile"
   ]
  },
  {
   "cell_type": "code",
   "execution_count": 6,
   "metadata": {},
   "outputs": [],
   "source": [
    "os.chdir('unix_cmp/')"
   ]
  },
  {
   "cell_type": "code",
   "execution_count": 10,
   "metadata": {},
   "outputs": [],
   "source": [
    "name = \"Dodge/source/Makefile\"\n",
    "for file in os.listdir():\n",
    "    if not os.path.isfile(\"{}/{}/Makefile\".format(file,\"source\")):\n",
    "        copyfile(name,\"{}/{}/Makefile\".format(file,\"source\"))"
   ]
  },
  {
   "cell_type": "markdown",
   "metadata": {},
   "source": [
    "## Check unarchievment"
   ]
  },
  {
   "cell_type": "code",
   "execution_count": 4,
   "metadata": {},
   "outputs": [],
   "source": [
    "def check_unach():\n",
    "    for file in os.listdir():\n",
    "        if os.path.isdir(file):\n",
    "            if not os.path.exists(file+'/source/'):\n",
    "                print(file)"
   ]
  },
  {
   "cell_type": "code",
   "execution_count": 57,
   "metadata": {},
   "outputs": [],
   "source": [
    "\n",
    "\n",
    "unx = ['unix_cmp','unix_small_2']\n",
    "total_dir = set()\n",
    "for file in os.listdir():\n",
    "    if os.path.isdir(file):\n",
    "        total_dir.add(file)\n",
    "total_dir = total_dir.difference(unx)\n",
    "exts_ = {}\n",
    "        "
   ]
  },
  {
   "cell_type": "markdown",
   "metadata": {},
   "source": [
    "# Picking all extensions"
   ]
  },
  {
   "cell_type": "code",
   "execution_count": 53,
   "metadata": {},
   "outputs": [],
   "source": [
    "def pick_ext():\n",
    "    for asm in total_dir:\n",
    "        for file in os.listdir(asm):\n",
    "            if os.path.isdir(\"{}/{}\".format(asm,file)):\n",
    "                pick_ext_ext(asm,\"{}/{}/\".format(asm,file))\n",
    "                continue\n",
    "            ext_ = os.path.splitext(file)[1][1:].lower()\n",
    "            if ext_ not in exts_:\n",
    "                exts_[ext_] = []\n",
    "            exts_[ext_].append(asm)"
   ]
  },
  {
   "cell_type": "code",
   "execution_count": 54,
   "metadata": {},
   "outputs": [],
   "source": [
    "#fill - napolnenine, dir_ - adress\n",
    "def pick_ext_ext(prg,dir_):\n",
    "    for file in os.listdir(dir_):\n",
    "        if os.path.isdir(dir_+file):\n",
    "            pick_ext_ext(prg,\"{}{}/\".format(dir_,file))\n",
    "            continue\n",
    "        ext_ = os.path.splitext(file)[1][1:].lower()\n",
    "        if ext_ not in exts_:\n",
    "            exts_[ext_] = []\n",
    "        exts_[ext_].append(prg)\n",
    "            "
   ]
  },
  {
   "cell_type": "code",
   "execution_count": 58,
   "metadata": {},
   "outputs": [],
   "source": [
    "pick_ext()"
   ]
  },
  {
   "cell_type": "code",
   "execution_count": 69,
   "metadata": {},
   "outputs": [
    {
     "data": {
      "text/plain": [
       "dict_keys(['txt', 'cpp', 'h', '', 'depend', 'jpg', 'cbp', 'layout', 'o', 'exe', 'png', 'doc', 'h (revised resubmission)', 'c', 'rh', 'rc', 'dsc', 'in', 'sta', 'rul', 'abt', 'inf', 'log', 'gpl', 'dat', 'htm', 'vcproj', 'sln', 'filters', 'vcxproj', 'bat', 'cfg', 'chr', 'cry', 'pad', '0', 'user', 'hpp', 'pdb', 'tlog', 'lastbuildstate', 'obj', 'idb', 'pch', 'html', 'sh', 'ini', 'bmp', 'db', 'ncb', 'opt', 'dsw', 'def', 'q3asm', 'scc', 'dsp', 'plg', 'asm', 'sbr', 'exp', 'lib', 'map', 'ilk', 'cur', 'ico', 'rc2', 'aps', 'res', 'tmp', 'clw', 'bbf', 'bgi', 'pdf', '4 (mysql class)', 'sxw', '01', '10)', '1', 'ba1', '2', 'all', 'ba2', 'dev', 'win', 'suo', 'zip', 'tm', 'utm', ' reverse polish notation(rpn)', 'gif', 'cc', 'book', 'csh', 'cli'])"
      ]
     },
     "execution_count": 69,
     "metadata": {},
     "output_type": "execute_result"
    }
   ],
   "source": [
    "exts_.keys()"
   ]
  },
  {
   "cell_type": "code",
   "execution_count": 70,
   "metadata": {},
   "outputs": [],
   "source": [
    "c_like = []\n",
    "for ex in list(exts_.keys()):\n",
    "    if (ex!=''):\n",
    "        if (ex[0] == 'c') or (ex=='h'):\n",
    "            c_like.append(ex)"
   ]
  },
  {
   "cell_type": "markdown",
   "metadata": {},
   "source": [
    "###  clike = ['cpp', 'h', 'cbp', 'c', 'cfg', 'chr', 'cry', 'cur', 'clw', 'cc', 'csh', 'cli']"
   ]
  },
  {
   "cell_type": "code",
   "execution_count": 72,
   "metadata": {},
   "outputs": [],
   "source": [
    "c_like = ['cpp','h','cc','c']"
   ]
  },
  {
   "cell_type": "code",
   "execution_count": 75,
   "metadata": {},
   "outputs": [],
   "source": [
    "c_prgms = set()\n",
    "for c in c_like:\n",
    "    c_prgms = c_prgms.union(exts_[c])"
   ]
  },
  {
   "cell_type": "code",
   "execution_count": 78,
   "metadata": {},
   "outputs": [],
   "source": [
    "def each_dir(name):\n",
    "    for each in os.listdir(name+'/source'):\n",
    "        if os.path.isdir(name+'/source/'+each):\n",
    "            return False\n",
    "    return True\n",
    "\n",
    "def sel_src(dir_):\n",
    "    rtn = []\n",
    "    for code in dir_:\n",
    "        if os.path.isdir(code) and each_dir(code):\n",
    "                rtn.append(code)\n",
    "    return rtn\n",
    "##mv c_files\n",
    "def mv_src(srcs,loc):\n",
    "    for code in srcs:\n",
    "        shutil.move(code,loc);"
   ]
  },
  {
   "cell_type": "code",
   "execution_count": 79,
   "metadata": {},
   "outputs": [],
   "source": [
    "mv_src(c_prgms,'unix_cmp/')"
   ]
  }
 ],
 "metadata": {
  "kernelspec": {
   "display_name": "Python 3",
   "language": "python",
   "name": "python3"
  },
  "language_info": {
   "codemirror_mode": {
    "name": "ipython",
    "version": 3
   },
   "file_extension": ".py",
   "mimetype": "text/x-python",
   "name": "python",
   "nbconvert_exporter": "python",
   "pygments_lexer": "ipython3",
   "version": "3.7.4"
  }
 },
 "nbformat": 4,
 "nbformat_minor": 2
}
