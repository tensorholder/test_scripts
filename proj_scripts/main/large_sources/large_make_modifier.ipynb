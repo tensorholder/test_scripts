{
 "cells": [
  {
   "cell_type": "code",
   "execution_count": 1,
   "metadata": {},
   "outputs": [],
   "source": [
    "import os\n",
    "import pandas as pd\n",
    "import numpy as np\n",
    "import subprocess\n",
    "import re\n",
    "import pickle\n",
    "from make import make_dir\n",
    "opt_ = [\"-O%s\" %i for i in [0,1,2,3,'s','z']]\n",
    "\n",
    "clang_ =[\"-O%s\" %i for i in [0,1,2,3,'fast','s','z','g','4']]\n",
    "\n",
    "frame = pd.DataFrame(columns=opt_,index=clang_)\n",
    "absdir = \"./../../../../Unix_Source/\"\n",
    "initdir = os.getcwd()+'/'\n",
    "largedir = absdir+'unix_cmp'"
   ]
  },
  {
   "cell_type": "code",
   "execution_count": 2,
   "metadata": {},
   "outputs": [],
   "source": [
    "all_ = re.compile(r\"all\\s*\\:\\s*.+\\n\")\n",
    "comp_ = re.compile(r\"\\t+g[\\+c]{2}\\s.*\\.[cp]{1,3}.*\")\n",
    "reg_sign = re.compile(r'.+\\s*\\:\\s*(.+\\.[olbcpx]{1,3}\\s{0,1})+\\n')\n",
    "clang_flags = \"-S -emit-llvm -O0 -Xclang -disable-O0-optnone\"\n",
    "\n",
    "\n",
    "\n",
    "targ_routine = lambda x,y : \"{0}:opt.bc\\n\\t\\t{1}\\n\".format(x,y)\n",
    "ll_code = 'll_code.ll'\n",
    "opt_bc = 'opt.bc'\n",
    "opt_routine = \"opt.bc:ll_code.ll\\n\\t\\topt -Oz ll_code.ll -o opt.bc\\n\"\n",
    "targ_routine = lambda x,y : \"{0}:opt.bc\\n\\t\\t{1}\\n\".format(x,y)\n",
    "phony_routine = \".PHONY: all clean\\n\"\n",
    "clean_routine = lambda target: \"clean:\\n\\t\\trm -rf {0} {1} {2}\".format(ll_code,opt_bc,target)"
   ]
  },
  {
   "cell_type": "markdown",
   "metadata": {},
   "source": [
    "# 1 .divide sources in a feather groups to manage this shit\n",
    "# 2 . divide sources in compile groups"
   ]
  },
  {
   "cell_type": "code",
   "execution_count": 166,
   "metadata": {},
   "outputs": [],
   "source": [
    "make_options = {'other':{},'all':[],'comp':[],'sign':[]}\n",
    "os.chdir(absdir+'unix_cmp')\n",
    "for prg in os.listdir():\n",
    "    os.chdir(absdir+'unix_cmp')\n",
    "    if os.path.isdir(prg):\n",
    "        dir_ = make_dir(\"{}/{}/\".format(prg,'source'))[0]\n",
    "        os.chdir(dir_)\n",
    "        with open('Makefile','r') as make_file:\n",
    "            for line in make_file:\n",
    "                if all_.match(line):\n",
    "                    make_options['all'].append((line,prg))\n",
    "                elif comp_.match(line):\n",
    "                    make_options['comp'].append(line)\n",
    "                elif reg_sign.match(line):\n",
    "                    make_options['sign'].append(line)\n",
    "                else:\n",
    "                    try:\n",
    "                        make_options['other'][prg].append(line)\n",
    "                    except KeyError:\n",
    "                        make_options['other'][prg] = []"
   ]
  },
  {
   "cell_type": "code",
   "execution_count": 167,
   "metadata": {},
   "outputs": [],
   "source": [
    "xs = {}\n",
    "for src in make_options['other']:\n",
    "    cur = list(filter(lambda x: x!='\\n',make_options['other'][src]))\n",
    "    if cur:\n",
    "        xs[src] = cur\n",
    "make_options['other'] = xs"
   ]
  },
  {
   "cell_type": "markdown",
   "metadata": {},
   "source": [
    "# all has more than one program"
   ]
  },
  {
   "cell_type": "code",
   "execution_count": 187,
   "metadata": {},
   "outputs": [
    {
     "ename": "NameError",
     "evalue": "name 'all_opt' is not defined",
     "output_type": "error",
     "traceback": [
      "\u001b[0;31m---------------------------------------------------------------------------\u001b[0m",
      "\u001b[0;31mNameError\u001b[0m                                 Traceback (most recent call last)",
      "\u001b[0;32m<ipython-input-187-45024735ae1f>\u001b[0m in \u001b[0;36m<module>\u001b[0;34m\u001b[0m\n\u001b[0;32m----> 1\u001b[0;31m \u001b[0mall_opt\u001b[0m\u001b[0;34m\u001b[0m\u001b[0;34m\u001b[0m\u001b[0m\n\u001b[0m",
      "\u001b[0;31mNameError\u001b[0m: name 'all_opt' is not defined"
     ]
    }
   ],
   "source": [
    "all_opt"
   ]
  },
  {
   "cell_type": "code",
   "execution_count": 168,
   "metadata": {},
   "outputs": [],
   "source": [
    "all_opt = {'complex':[],'simple':[]}\n",
    "for al in make_options['all']:\n",
    "    line,prg = al\n",
    "    cur = re.split(r'all\\s*\\:\\s*',line)[1]\n",
    "    cur = re.split(r'(?<!\\\\)\\s+',cur)[:-1]\n",
    "    if cur.__len__()==1:\n",
    "        all_opt['simple'].append(prg)\n",
    "    else:\n",
    "        all_opt['complex'].append(prg)\n",
    "\n",
    "all_opt['complex'] = set(make_options['other'].keys()).union(set(all_opt['complex']))\n",
    "\n",
    "all_opt['simple'] = set(all_opt['simple']).difference(set(make_options['other'].keys()))"
   ]
  },
  {
   "cell_type": "code",
   "execution_count": 188,
   "metadata": {},
   "outputs": [
    {
     "data": {
      "text/plain": [
       "24"
      ]
     },
     "execution_count": 188,
     "metadata": {},
     "output_type": "execute_result"
    }
   ],
   "source": [
    "all_single.__len__()"
   ]
  },
  {
   "cell_type": "code",
   "execution_count": 169,
   "metadata": {},
   "outputs": [],
   "source": [
    "all_single = []\n",
    "os.chdir(absdir+'unix_cmp')\n",
    "for smpl in all_opt['simple']:\n",
    "    os.chdir(absdir+'unix_cmp')\n",
    "    if os.path.isdir(prg):\n",
    "        dir_ = make_dir(\"{}/{}/\".format(smpl,'source'))[0]\n",
    "        os.chdir(dir_)\n",
    "        with open('Makefile','r') as make_file:\n",
    "            for line in make_file:\n",
    "                if comp_.match(line):\n",
    "                    tmp = re.split(r'(?<!\\\\)\\s+',line)[1:-1]\n",
    "                    if (tmp[1:tmp.index('-o')].__len__() == 1):\n",
    "                        all_single.append(smpl)\n",
    "                    "
   ]
  },
  {
   "cell_type": "code",
   "execution_count": 78,
   "metadata": {},
   "outputs": [],
   "source": [
    "def make_routine(path,ls,conds):\n",
    "    for l in ls:\n",
    "        os.chdir(path)\n",
    "        if os.path.isdir(l):\n",
    "            dir_ = make_dir(\"{}/{}/\".format(l,'source'))[0]\n",
    "            os.chdir(dir_)\n",
    "            with open('Makefile','r') as make_file:\n",
    "                for line in make_file:\n",
    "                    is_cond = False\n",
    "                    for cond in conds:\n",
    "                        r = cond(line,all_single[l])\n",
    "                        if r:\n",
    "                            all_single[l] = r\n",
    "                            is_cond = True\n",
    "                            break\n",
    "                    if not is_cond:\n",
    "                        if line!='\\n':\n",
    "                            all_single[l]['text'].append(line)\n",
    "\n",
    "                        \n",
    "\n",
    "def all_cond(line,xs):\n",
    "    res = None\n",
    "    if all_.match(line):\n",
    "        res = re.split(r'(?<!\\\\)\\s+',line)\n",
    "        xs['target'] = re.split(r'all\\s*\\:\\s*',line[:-1])[1]\n",
    "        xs['target'] = xs['target'].replace('(',('\\\\('))\n",
    "        xs['target']= xs['target'].replace(')','\\\\)')\n",
    "        res+=[ll_code,opt_bc]\n",
    "        res = ' '.join(res)\n",
    "        xs['text'].append(res+'\\n')\n",
    "        res = xs;\n",
    "    return res\n",
    "\n",
    "def cmp_cond(line,xs):\n",
    "    res = None\n",
    "    if comp_.match(line):\n",
    "        cmp = re.split(r'(?<!\\\\)\\s',line)\n",
    "        cmp = list(filter(lambda x:x!='',cmp))\n",
    "        if 'g++' in cmp:\n",
    "            cmp[0] = 'clang++'\n",
    "        else:\n",
    "            cmp[0] = 'clang'\n",
    "        xs['cmp'] = cmp\n",
    "        cmp.insert(1,clang_flags)\n",
    "        cmp[cmp.index(xs['target'])] = ll_code\n",
    "        xs['cmp'] = cmp\n",
    "        xs['text'].append(' '.join(cmp)+'\\n')\n",
    "        res = xs\n",
    "    return res\n",
    "def ll_cond(line,xs):\n",
    "    res = None\n",
    "    ll = re.compile(xs['target']+r'\\:\\s+.*\\.[cpx]{1,3}.*')\n",
    "    if ll.match(line):\n",
    "        res = re.split(r'\\s*\\:\\s+',line)\n",
    "        res[0] = ll_code\n",
    "        xs['text'].append(': '.join(res))\n",
    "        res = xs\n",
    "    return res\n",
    "\n",
    "def make_proc(args,log,flag):\n",
    "    proc = subprocess.Popen(args,stderr=subprocess.PIPE, stdout=subprocess.PIPE)\n",
    "    o,e = proc.communicate()\n",
    "    if proc.returncode:\n",
    "        log([flag,e.decode('iso-8859-1')])\n",
    "        return -1\n",
    "    else:\n",
    "        return o.decode('iso-8859-1')\n",
    "\n",
    "def log_file(lines,name=initdir+'make_edit.log'):\n",
    "    with open(name,'a+') as file:\n",
    "        for line in lines:\n",
    "            if line[-1]!='\\n':\n",
    "                file.write(line+'\\n')\n",
    "            else:\n",
    "                file.write(line)\n",
    "\n",
    "def res_err(result):\n",
    "    err = []\n",
    "    for r in result:\n",
    "        for p in result[r]:\n",
    "            if result[r][p]==-1:\n",
    "                err.append(r)\n",
    "                break\n",
    "    return err"
   ]
  },
  {
   "cell_type": "code",
   "execution_count": 171,
   "metadata": {
    "scrolled": true
   },
   "outputs": [],
   "source": [
    "temp = {}\n",
    "for single in all_single:\n",
    "    temp.setdefault(single,{'text':[],'target':'','cmp':None})\n",
    "all_single = temp\n",
    "\n",
    "make_routine(largedir,all_single,[all_cond,cmp_cond,ll_cond])"
   ]
  },
  {
   "cell_type": "code",
   "execution_count": 161,
   "metadata": {},
   "outputs": [],
   "source": [
    "# pickle.dump(all_single,open('all.single','wb'))"
   ]
  },
  {
   "cell_type": "code",
   "execution_count": 174,
   "metadata": {},
   "outputs": [],
   "source": [
    "os.chdir(initdir)\n",
    "all_single = pickle.load(open('all.single','rb'))\n",
    "\n",
    "for single in all_single:\n",
    "    for ind,el in enumerate(all_single[single]['text']):\n",
    "        if comp_.match(el):\n",
    "            print(line)\n",
    "            break\n",
    "    all_single[single]['text'][0]+='\\n' \n",
    "    all_single[single]['text'][ind] = '\\t\\t'+all_single[single]['text'][ind]\n",
    "        \n",
    "    all_single[single]['text'].insert(0,phony_routine)\n",
    "    all_single[single]['text'].append(opt_routine)\n",
    "    all_single[single]['opt'] = all_single[single]['text'].__len__()-1\n",
    "    s_comp = all_single[single]['cmp'].copy()\n",
    "    del s_comp[1]\n",
    "    s_comp[1] = opt_bc\n",
    "    s_comp[3] = all_single[single]['target']\n",
    "    \n",
    "#     print(targ_routine(all_single[single]['target'],' '.join(s_comp)))\n",
    "    all_single[single]['text'].append(targ_routine(all_single[single]['target'],' '.join(s_comp)))\n",
    "#     print(clean_routine(all_single[single]['target']))\n",
    "    all_single[single]['text'].append(clean_routine(all_single[single]['target']))"
   ]
  },
  {
   "cell_type": "code",
   "execution_count": 183,
   "metadata": {
    "scrolled": true
   },
   "outputs": [
    {
     "name": "stdout",
     "output_type": "stream",
     "text": [
      "Dodge\n",
      "Sorting algorithm\n",
      "DM FileInfo\n",
      "Simple Config File Reader\n",
      "A Hangman Game (College Nickname Edition)\n",
      "charactor arrays\n",
      "StopWatch\n",
      "bash intrepreter\n",
      "Numerical Analysis Techniques\n",
      "Stack class\n",
      "Skatedown\n",
      "Cpp Console TicTacToe-2\n",
      "Expression calculator using Expression trees. Infix to Postfix. Reverse Polish Notation(RPN)\n",
      "Configuration Viewer 2.0\n",
      "Super Penguin Bros. v0.01\n",
      "Neural Networks (A state of the art Artificial Intelligence demonstration)\n",
      "^^Use Bubble Sort for Ordering Strings\n",
      "Begining socket programming in Windows and UNIX (LINUX) - Tutorial and 2 source code server examples\n",
      "A really cool binary translator!\n",
      "C mailing list database with algorithm\n",
      "C Phonebook Project\n",
      "Cpp Class Objects to Vector STL\n",
      "The 8086 Assembler\n",
      "Pixel Building\n"
     ]
    }
   ],
   "source": [
    "res_opt = {}\n",
    "for sign in all_single:\n",
    "    print(sign)\n",
    "    res_opt.setdefault(sign,{})\n",
    "    os.chdir(absdir+'unix_cmp')\n",
    "    if os.path.isdir(sign):\n",
    "        dir_ = make_dir(\"{}/{}/\".format(sign,'source'))[0]\n",
    "        os.chdir(dir_)\n",
    "        for option in opt_:\n",
    "            #Change options \n",
    "            pos = all_single[sign]['opt']\n",
    "            tmp = opt_routine.split('\\n')[1].split(' ')\n",
    "            tmp[1] = option\n",
    "            tmp = [opt_routine.split('\\n')[0],' '.join(tmp)]\n",
    "            all_single[sign]['text'][pos] = ('\\n'.join(tmp)+'\\n')\n",
    "            with open('Makefile','wt') as make_file:\n",
    "                for line in all_single[sign]['text']:\n",
    "                    make_file.write(line) \n",
    "            make_proc(['make'],log_file,sign)\n",
    "            res =subprocess.check_output(\"wc -c {}\".format(all_single[sign]['target']), stderr=subprocess.STDOUT,\n",
    "                                               shell=True)\n",
    "            make_proc(['make','clean'],log_file,sign)\n",
    "            res_opt[sign][option] = res"
   ]
  },
  {
   "cell_type": "code",
   "execution_count": 186,
   "metadata": {},
   "outputs": [],
   "source": [
    "os.chdir(initdir)\n",
    "# os.listdir()\n",
    "pickle.dump(res_opt,open('all_single.result','wb'))"
   ]
  },
  {
   "cell_type": "code",
   "execution_count": 175,
   "metadata": {},
   "outputs": [],
   "source": [
    "#Errors\n",
    "#Sorting\n",
    "tmp = all_single['Sorting algorithm']['text']\n",
    "q = all_single['Sorting algorithm']['target'].replace('\\\\','\\\\\\\\')\n",
    "for ind,line in enumerate(tmp):\n",
    "    if re.match(q+r'\\:\\s+.*\\.[cpx]{1,3}.*',line):\n",
    "        break\n",
    "tmp = all_single['Sorting algorithm']['text'][ind]\n",
    "tmp = re.split(r'\\s*\\:\\s+',tmp)\n",
    "tmp[0] = ll_code\n",
    "all_single['Sorting algorithm']['text'][ind] = ': '.join(tmp)\n",
    "\n",
    "#Hangman \n",
    "tmp = all_single['A Hangman Game (College Nickname Edition)']['text']\n",
    "for ind,line in enumerate(tmp):\n",
    "    if re.match(r'.*\\:opt\\.bc.*',line):\n",
    "        break\n",
    "ll_targ = all_single['A Hangman Game (College Nickname Edition)']['target'].replace('\\\\','')\n",
    "tmp = re.split('\\:',line)\n",
    "tmp[0] = ll_targ\n",
    "# print(':'.join(tmp))\n",
    "all_single['A Hangman Game (College Nickname Edition)']['text'][ind] = ':'.join(tmp)\n",
    "\n",
    "#Use buble sort\n",
    "tmp = all_single['^^Use Bubble Sort for Ordering Strings']\n",
    "for ind,line in enumerate(tmp['text']):\n",
    "        if re.match(r'.+\\s*\\:\\s+.*\\.[cpx]{1,3}.*',line):\n",
    "            break\n",
    "tmp = all_single['^^Use Bubble Sort for Ordering Strings']['text'][ind]\n",
    "tmp = re.split(r'\\s*\\:\\s+',tmp)\n",
    "tmp[0] = ll_code\n",
    "all_single['^^Use Bubble Sort for Ordering Strings']['text'][ind] = ': '.join(tmp)"
   ]
  },
  {
   "cell_type": "code",
   "execution_count": 182,
   "metadata": {},
   "outputs": [
    {
     "name": "stdout",
     "output_type": "stream",
     "text": [
      "b'23592 Sorting Tools\\n'\n",
      "b'23592 Sorting Tools\\n'\n",
      "b'27688 Sorting Tools\\n'\n",
      "b'27688 Sorting Tools\\n'\n",
      "b'27688 Sorting Tools\\n'\n",
      "b'23592 Sorting Tools\\n'\n",
      "b'84472 hangman(colleges)\\n'\n",
      "b'84504 hangman(colleges)\\n'\n",
      "b'84504 hangman(colleges)\\n'\n",
      "b'84504 hangman(colleges)\\n'\n",
      "b'84504 hangman(colleges)\\n'\n",
      "b'84464 hangman(colleges)\\n'\n",
      "b'13224 Bubble Sort2\\n'\n",
      "b'13224 Bubble Sort2\\n'\n",
      "b'13224 Bubble Sort2\\n'\n",
      "b'13224 Bubble Sort2\\n'\n",
      "b'13224 Bubble Sort2\\n'\n",
      "b'13224 Bubble Sort2\\n'\n"
     ]
    }
   ],
   "source": [
    "#all single problems\n",
    "allsingle_err = res_err(res_opt)\n",
    "for e in allsingle_err:\n",
    "#     print(e)\n",
    "    os.chdir(absdir+'unix_cmp')\n",
    "    dir_ = make_dir(\"{}/{}/\".format(e,'source'))[0]\n",
    "    os.chdir(dir_)\n",
    "    for option in opt_:\n",
    "        pos = all_single[e]['opt']\n",
    "        tmp = opt_routine.split('\\n')[1].split(' ')\n",
    "        tmp[1] = option\n",
    "        tmp = [opt_routine.split('\\n')[0],' '.join(tmp)]\n",
    "        all_single[e]['text'][pos] = ('\\n'.join(tmp)+'\\n')\n",
    "        with open('Makefile','wt') as make_file:\n",
    "            for line in all_single[e]['text']:\n",
    "                make_file.write(line)    \n",
    "        make_proc(['make'],log_file,e)\n",
    "        res =subprocess.check_output(\"wc -c {}\".format(all_single[e]['target']), stderr=subprocess.STDOUT,\n",
    "                                               shell=True)\n",
    "\n",
    "        make_proc(['make','clean'],log_file,e)\n",
    "        print(res)"
   ]
  }
 ],
 "metadata": {
  "kernelspec": {
   "display_name": "Python 3",
   "language": "python",
   "name": "python3"
  },
  "language_info": {
   "codemirror_mode": {
    "name": "ipython",
    "version": 3
   },
   "file_extension": ".py",
   "mimetype": "text/x-python",
   "name": "python",
   "nbconvert_exporter": "python",
   "pygments_lexer": "ipython3",
   "version": "3.7.4"
  }
 },
 "nbformat": 4,
 "nbformat_minor": 2
}
