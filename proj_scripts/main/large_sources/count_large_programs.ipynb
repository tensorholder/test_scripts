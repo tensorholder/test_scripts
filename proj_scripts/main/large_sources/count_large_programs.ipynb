{
 "cells": [
  {
   "cell_type": "code",
   "execution_count": 1,
   "metadata": {},
   "outputs": [],
   "source": [
    "import os\n",
    "absdir = \"./../../../../Unix_Source/\"\n",
    "from pyunpack import Archive\n",
    "import subprocess\n",
    "import shutil\n",
    "os.chdir(absdir)\n",
    "if not os.path.isdir('unix_cmp'):\n",
    "    os.mkdir('unix_cmp')\n",
    "from shutil import copyfile"
   ]
  },
  {
   "cell_type": "code",
   "execution_count": 2,
   "metadata": {},
   "outputs": [],
   "source": [
    "os.chdir('unix_cmp/')"
   ]
  },
  {
   "cell_type": "markdown",
   "metadata": {},
   "source": [
    "# Count files in make directories"
   ]
  },
  {
   "cell_type": "code",
   "execution_count": 58,
   "metadata": {},
   "outputs": [],
   "source": [
    "def log_file(str_):\n",
    "    with open('{}{}large.count'.format(absdir,'unix_cmp/'),'a+') as stream:\n",
    "        stream.write(str_+'\\n')\n",
    "          "
   ]
  },
  {
   "cell_type": "code",
   "execution_count": 31,
   "metadata": {},
   "outputs": [],
   "source": [
    "def make_dir(d):\n",
    "    fold = os.listdir(d)\n",
    "    if ('Makefile' in fold):\n",
    "        return (d,len(fold))\n",
    "    else:\n",
    "        for file in fold:\n",
    "                if os.path.isdir(\"{}{}\".format(d,file)):\n",
    "                    val = make_dir(\"{}{}/\".format(d,file))\n",
    "                    if val!=None:\n",
    "                        return val \n",
    "    return None"
   ]
  },
  {
   "cell_type": "markdown",
   "metadata": {},
   "source": [
    "## Changes before make"
   ]
  },
  {
   "cell_type": "code",
   "execution_count": 65,
   "metadata": {},
   "outputs": [],
   "source": [
    "def upd_make(dic,keys):\n",
    "    for key in keys:\n",
    "        bfr_make[key] = make_dir(\"{}/{}/\".format(key,'source'))"
   ]
  },
  {
   "cell_type": "code",
   "execution_count": 32,
   "metadata": {},
   "outputs": [],
   "source": [
    "bfr_make = {}\n",
    "for prg in os.listdir():\n",
    "    bfr_make.setdefault(prg)\n",
    "    bfr_make[prg] = make_dir(\"{}/{}/\".format(prg,'source'))\n",
    "    "
   ]
  },
  {
   "cell_type": "code",
   "execution_count": 66,
   "metadata": {},
   "outputs": [],
   "source": [
    "upd_make(bfr_make,fst)"
   ]
  },
  {
   "cell_type": "code",
   "execution_count": 73,
   "metadata": {},
   "outputs": [],
   "source": [
    "fst,snd = [],[]\n",
    "whn_make = {}\n",
    "for prg in set(bfr_make.keys()).difference(snd):\n",
    "            os.chdir(bfr_make[prg][0])     \n",
    "            proc = subprocess.Popen(['make'], \n",
    "                                    stderr=subprocess.PIPE, stdout=subprocess.PIPE)\n",
    "            o,e = proc.communicate()\n",
    "            if proc.returncode:\n",
    "                print(e.decode('iso-8859-1'))\n",
    "                log_file(prg)\n",
    "                fst.append(prg)\n",
    "            else:\n",
    "                snd.append(prg)\n",
    "            os.chdir(absdir+'unix_cmp/')"
   ]
  },
  {
   "cell_type": "code",
   "execution_count": 75,
   "metadata": {},
   "outputs": [
    {
     "data": {
      "text/plain": [
       "('asd', '')"
      ]
     },
     "execution_count": 75,
     "metadata": {},
     "output_type": "execute_result"
    }
   ],
   "source": [
    "os.path.splitext(\"asdsadsadasd asdsadasdsadsa asdasdsadsa asdasdasdsad\")"
   ]
  },
  {
   "cell_type": "code",
   "execution_count": 79,
   "metadata": {},
   "outputs": [
    {
     "data": {
      "text/plain": [
       "'Cpp Console GuessNumber with class/source/GuessNumber/'"
      ]
     },
     "execution_count": 79,
     "metadata": {},
     "output_type": "execute_result"
    }
   ],
   "source": [
    "bfr_make[prg][0]"
   ]
  },
  {
   "cell_type": "code",
   "execution_count": 80,
   "metadata": {},
   "outputs": [],
   "source": [
    "aft_make = {}\n",
    "for prg in bfr_make:\n",
    "    aft_make.setdefault(prg,[])\n",
    "    for file in os.listdir(bfr_make[prg][0]):\n",
    "        res = os.path.splitext(file)\n",
    "        if os.path.isfile(\"{}{}\".format(bfr_make[prg][0],file)) and file!='Makefile':\n",
    "            if res[1]=='':\n",
    "                aft_make[prg].append(res[0])\n",
    "        \n",
    "    "
   ]
  },
  {
   "cell_type": "code",
   "execution_count": 83,
   "metadata": {},
   "outputs": [
    {
     "data": {
      "text/plain": [
       "79"
      ]
     },
     "execution_count": 83,
     "metadata": {},
     "output_type": "execute_result"
    }
   ],
   "source": [
    "res_len = 0\n",
    "for key in aft_make:\n",
    "    res_len+=aft_make[key].__len__()\n",
    "res_len"
   ]
  }
 ],
 "metadata": {
  "kernelspec": {
   "display_name": "Python 3",
   "language": "python",
   "name": "python3"
  },
  "language_info": {
   "codemirror_mode": {
    "name": "ipython",
    "version": 3
   },
   "file_extension": ".py",
   "mimetype": "text/x-python",
   "name": "python",
   "nbconvert_exporter": "python",
   "pygments_lexer": "ipython3",
   "version": "3.7.4"
  }
 },
 "nbformat": 4,
 "nbformat_minor": 2
}
