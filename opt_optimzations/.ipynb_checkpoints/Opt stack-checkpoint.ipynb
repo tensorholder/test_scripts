{
 "cells": [
  {
   "cell_type": "code",
   "execution_count": null,
   "metadata": {
    "collapsed": true
   },
   "outputs": [],
   "source": [
    "import functools\n",
    "from functools import reduce\n",
    "import numpy as np\n",
    "import pandas as pd\n",
    "import re\n",
    "import functools\n",
    "import subprocess\n",
    "import os"
   ]
  },
  {
   "cell_type": "code",
   "execution_count": 1,
   "metadata": {
    "collapsed": false,
    "scrolled": true
   },
   "outputs": [
    {
     "name": "stdout",
     "output_type": "stream",
     "text": [
      "Total passes via debugging all level optimizations is 1184\n",
      "Uniqes passes is 83\n"
     ]
    }
   ],
   "source": [
    "opt_sg = ['1','2','3','s','z']\n",
    "xs = ['opt_O%s' % i for i in opt_sg]\n",
    "\n",
    "opts = {}\n",
    "for x in xs :\n",
    "    opts[x]=''\n",
    "#Preprocessing optionts \n",
    "pitfalls = [' ','\\n',\n",
    " 'Arguments:','Pass']\n",
    "for opt in xs:\n",
    "    with open(opt, \n",
    "          'r') as file:\n",
    "        for line in file:\n",
    "            opts[opt] = opts[opt] + file.readline()\n",
    "        opts[opt] = list(map(lambda x : reduce(lambda y,pit : y.replace(pit,\"\"),[x]+pitfalls),opts[opt].split(' ')))\n",
    "        opts[opt] = ' '.join(filter(lambda x: x!='',opts[opt]))   \n",
    "            \n",
    "\n",
    "            \n",
    "opts_dict = {}\n",
    "\n",
    "merged = np.array([])\n",
    "for opt_p in xs :\n",
    "    for opt in opts[opt_p].split(' '):\n",
    "        merged = np.append(opt,merged)\n",
    "print(\"Total passes via debugging all level optimizations is {}\".format(merged.shape[0]))\n",
    "merged = np.unique(merged)\n",
    "print(\"Uniqes passes is {}\".format(merged.shape[0]))\n",
    "opts_frame = pd.DataFrame(columns=merged,index=xs).fillna(0)\n",
    "for opt in xs:\n",
    "    for passed in opts[opt].split(' '): \n",
    "        opts_frame.loc[opt][passed]+=1\n",
    "\n"
   ]
  },
  {
   "cell_type": "code",
   "execution_count": 157,
   "metadata": {
    "collapsed": false
   },
   "outputs": [
    {
     "data": {
      "text/html": [
       "<div>\n",
       "<style scoped>\n",
       "    .dataframe tbody tr th:only-of-type {\n",
       "        vertical-align: middle;\n",
       "    }\n",
       "\n",
       "    .dataframe tbody tr th {\n",
       "        vertical-align: top;\n",
       "    }\n",
       "\n",
       "    .dataframe thead th {\n",
       "        text-align: right;\n",
       "    }\n",
       "</style>\n",
       "<table border=\"1\" class=\"dataframe\">\n",
       "  <thead>\n",
       "    <tr style=\"text-align: right;\">\n",
       "      <th></th>\n",
       "      <th>-aa</th>\n",
       "      <th>-adce</th>\n",
       "      <th>-aggressive-instcombine</th>\n",
       "      <th>-alignment-from-assumptions</th>\n",
       "      <th>-always-inline</th>\n",
       "      <th>-argpromotion</th>\n",
       "      <th>-assumption-cache-tracker</th>\n",
       "      <th>-barrier</th>\n",
       "      <th>-basicaa</th>\n",
       "      <th>-basiccg</th>\n",
       "      <th>...</th>\n",
       "      <th>-simplifycfg</th>\n",
       "      <th>-slp-vectorizer</th>\n",
       "      <th>-speculative-execution</th>\n",
       "      <th>-sroa</th>\n",
       "      <th>-strip-dead-prototypes</th>\n",
       "      <th>-tailcallelim</th>\n",
       "      <th>-targetlibinfo</th>\n",
       "      <th>-tbaa</th>\n",
       "      <th>-tti</th>\n",
       "      <th>-verify</th>\n",
       "    </tr>\n",
       "  </thead>\n",
       "  <tbody>\n",
       "    <tr>\n",
       "      <th>opt_O1</th>\n",
       "      <td>17</td>\n",
       "      <td>1</td>\n",
       "      <td>0</td>\n",
       "      <td>1</td>\n",
       "      <td>1</td>\n",
       "      <td>0</td>\n",
       "      <td>1</td>\n",
       "      <td>1</td>\n",
       "      <td>16</td>\n",
       "      <td>3</td>\n",
       "      <td>...</td>\n",
       "      <td>7</td>\n",
       "      <td>0</td>\n",
       "      <td>1</td>\n",
       "      <td>1</td>\n",
       "      <td>1</td>\n",
       "      <td>1</td>\n",
       "      <td>2</td>\n",
       "      <td>1</td>\n",
       "      <td>1</td>\n",
       "      <td>1</td>\n",
       "    </tr>\n",
       "    <tr>\n",
       "      <th>opt_O2</th>\n",
       "      <td>19</td>\n",
       "      <td>1</td>\n",
       "      <td>0</td>\n",
       "      <td>1</td>\n",
       "      <td>0</td>\n",
       "      <td>0</td>\n",
       "      <td>1</td>\n",
       "      <td>1</td>\n",
       "      <td>18</td>\n",
       "      <td>3</td>\n",
       "      <td>...</td>\n",
       "      <td>7</td>\n",
       "      <td>1</td>\n",
       "      <td>1</td>\n",
       "      <td>1</td>\n",
       "      <td>1</td>\n",
       "      <td>1</td>\n",
       "      <td>2</td>\n",
       "      <td>1</td>\n",
       "      <td>1</td>\n",
       "      <td>1</td>\n",
       "    </tr>\n",
       "    <tr>\n",
       "      <th>opt_O3</th>\n",
       "      <td>19</td>\n",
       "      <td>1</td>\n",
       "      <td>1</td>\n",
       "      <td>1</td>\n",
       "      <td>0</td>\n",
       "      <td>1</td>\n",
       "      <td>1</td>\n",
       "      <td>1</td>\n",
       "      <td>18</td>\n",
       "      <td>3</td>\n",
       "      <td>...</td>\n",
       "      <td>7</td>\n",
       "      <td>1</td>\n",
       "      <td>1</td>\n",
       "      <td>1</td>\n",
       "      <td>1</td>\n",
       "      <td>1</td>\n",
       "      <td>2</td>\n",
       "      <td>1</td>\n",
       "      <td>1</td>\n",
       "      <td>1</td>\n",
       "    </tr>\n",
       "    <tr>\n",
       "      <th>opt_Os</th>\n",
       "      <td>18</td>\n",
       "      <td>1</td>\n",
       "      <td>0</td>\n",
       "      <td>1</td>\n",
       "      <td>0</td>\n",
       "      <td>0</td>\n",
       "      <td>1</td>\n",
       "      <td>1</td>\n",
       "      <td>17</td>\n",
       "      <td>3</td>\n",
       "      <td>...</td>\n",
       "      <td>7</td>\n",
       "      <td>1</td>\n",
       "      <td>1</td>\n",
       "      <td>1</td>\n",
       "      <td>1</td>\n",
       "      <td>1</td>\n",
       "      <td>2</td>\n",
       "      <td>1</td>\n",
       "      <td>1</td>\n",
       "      <td>1</td>\n",
       "    </tr>\n",
       "    <tr>\n",
       "      <th>opt_Oz</th>\n",
       "      <td>18</td>\n",
       "      <td>1</td>\n",
       "      <td>0</td>\n",
       "      <td>1</td>\n",
       "      <td>0</td>\n",
       "      <td>0</td>\n",
       "      <td>1</td>\n",
       "      <td>1</td>\n",
       "      <td>17</td>\n",
       "      <td>3</td>\n",
       "      <td>...</td>\n",
       "      <td>7</td>\n",
       "      <td>0</td>\n",
       "      <td>1</td>\n",
       "      <td>1</td>\n",
       "      <td>1</td>\n",
       "      <td>1</td>\n",
       "      <td>2</td>\n",
       "      <td>1</td>\n",
       "      <td>1</td>\n",
       "      <td>1</td>\n",
       "    </tr>\n",
       "  </tbody>\n",
       "</table>\n",
       "<p>5 rows × 83 columns</p>\n",
       "</div>"
      ],
      "text/plain": [
       "        -aa  -adce  -aggressive-instcombine  -alignment-from-assumptions  \\\n",
       "opt_O1   17      1                        0                            1   \n",
       "opt_O2   19      1                        0                            1   \n",
       "opt_O3   19      1                        1                            1   \n",
       "opt_Os   18      1                        0                            1   \n",
       "opt_Oz   18      1                        0                            1   \n",
       "\n",
       "        -always-inline  -argpromotion  -assumption-cache-tracker  -barrier  \\\n",
       "opt_O1               1              0                          1         1   \n",
       "opt_O2               0              0                          1         1   \n",
       "opt_O3               0              1                          1         1   \n",
       "opt_Os               0              0                          1         1   \n",
       "opt_Oz               0              0                          1         1   \n",
       "\n",
       "        -basicaa  -basiccg   ...     -simplifycfg  -slp-vectorizer  \\\n",
       "opt_O1        16         3   ...                7                0   \n",
       "opt_O2        18         3   ...                7                1   \n",
       "opt_O3        18         3   ...                7                1   \n",
       "opt_Os        17         3   ...                7                1   \n",
       "opt_Oz        17         3   ...                7                0   \n",
       "\n",
       "        -speculative-execution  -sroa  -strip-dead-prototypes  -tailcallelim  \\\n",
       "opt_O1                       1      1                       1              1   \n",
       "opt_O2                       1      1                       1              1   \n",
       "opt_O3                       1      1                       1              1   \n",
       "opt_Os                       1      1                       1              1   \n",
       "opt_Oz                       1      1                       1              1   \n",
       "\n",
       "        -targetlibinfo  -tbaa  -tti  -verify  \n",
       "opt_O1               2      1     1        1  \n",
       "opt_O2               2      1     1        1  \n",
       "opt_O3               2      1     1        1  \n",
       "opt_Os               2      1     1        1  \n",
       "opt_Oz               2      1     1        1  \n",
       "\n",
       "[5 rows x 83 columns]"
      ]
     },
     "execution_count": 157,
     "metadata": {},
     "output_type": "execute_result"
    }
   ],
   "source": [
    "opts_frame"
   ]
  },
  {
   "cell_type": "markdown",
   "metadata": {},
   "source": [
    "# Required  Variables(test)"
   ]
  },
  {
   "cell_type": "code",
   "execution_count": 25,
   "metadata": {
    "collapsed": true
   },
   "outputs": [],
   "source": [
    "routine_dir = \"/root/Bachelor_Thesis/test/compile/An example of Exception Handling/byte_codes/\"\n",
    "exec_dir = routine_dir+\"codes/\"\n",
    "write_dir = routine_dir+'error/'\n",
    "clang_dir = routine_dir+'clang_optz/'\n",
    "cwrite_dir = routine_dir+'cerror/'\n",
    "file = \"disable-passes.bc\"\n",
    "croutine_dir = \"/root/Bachelor_Thesis/test/compile/An example of Exception Handling/source/\"\n",
    "cfile = 'An example of Exception Handling.cpp'"
   ]
  },
  {
   "cell_type": "markdown",
   "metadata": {},
   "source": [
    "# Identifying dependencies between pacces"
   ]
  },
  {
   "cell_type": "code",
   "execution_count": 156,
   "metadata": {
    "collapsed": false
   },
   "outputs": [],
   "source": [
    "for pass_ in merged:\n",
    "    cmd = ['opt',pass_,'-debug-pass=Arguments',routine_dir+file,'-o',\n",
    "           exec_dir+pass_[1:]+\"-\"+file]\n",
    "    proc = subprocess.Popen(cmd,stderr=subprocess.PIPE,stdout=subprocess.PIPE)\n",
    "    o,e = proc.communicate()\n",
    "    if not proc.returncode:\n",
    "        with open(write_dir+pass_[1:]+\"-\"+file[:-3],'w+') as wrt:\n",
    "            wrt.write(e.decode('ascii'))\n",
    "\n"
   ]
  },
  {
   "cell_type": "markdown",
   "metadata": {},
   "source": [
    "# Identify repeats passes"
   ]
  },
  {
   "cell_type": "code",
   "execution_count": 6,
   "metadata": {
    "collapsed": false
   },
   "outputs": [
    {
     "name": "stdout",
     "output_type": "stream",
     "text": [
      "Passes with >=n repeats:\n",
      "-targetlibinfo\n",
      "-targetpassconfig\n",
      "-tti\n",
      "-verify\n",
      "-write-bitcode\n"
     ]
    }
   ],
   "source": [
    "# @passes dict debugging information of applicaton passes\n",
    "passes = {}\n",
    "# @intr Intersection array\n",
    "intr  = []\n",
    "\n",
    "for app_pass in os.listdir(write_dir):\n",
    "    name = app_pass.split(file[:-3])[0][:-1]\n",
    "    passes[name] = ''\n",
    "    with open(write_dir+app_pass,'r') as crr_file:\n",
    "        for line in crr_file:\n",
    "            passes[name] += line\n",
    "            passes[name] = list(map(lambda x : reduce(lambda y,pit : y.replace(pit,\"\"),[x]+pitfalls),passes[name].split(' ')))\n",
    "            passes[name] = ' '.join(filter(lambda x: x!='',passes[name]))          \n",
    "\n",
    "\n",
    "print(\"Passes with >=n repeats:\")\n",
    "np_passes = np.array(reduce(lambda x,y :x+y,[]+[v.split(' ') for k,v in passes.items()]))\n",
    "with open(routine_dir+'stats.txt','a+') as stat:\n",
    "    for app_pass in np.unique(np_passes):\n",
    "    \n",
    "        count = np.count_nonzero(np_passes==(app_pass))\n",
    "        stat.write('Pass {} has {} repeats out of {}\\n'.format(app_pass,count,passes.keys().__len__()))\n",
    "        if count >=passes.keys().__len__():\n",
    "            intr.append(app_pass)\n",
    "            print(app_pass)"
   ]
  },
  {
   "cell_type": "markdown",
   "metadata": {},
   "source": [
    "# Deleting repeating passes , checking dependencies"
   ]
  },
  {
   "cell_type": "code",
   "execution_count": 9,
   "metadata": {
    "collapsed": false,
    "scrolled": true
   },
   "outputs": [],
   "source": [
    "for pass_ in passes.keys():\n",
    "    passes[pass_] = ' '.join(list(filter(lambda x:x not in intr,passes[pass_].split(' '))))\n"
   ]
  },
  {
   "cell_type": "markdown",
   "metadata": {},
   "source": [
    "# Clang Detecting passes routine"
   ]
  },
  {
   "cell_type": "markdown",
   "metadata": {},
   "source": [
    "## Clang base application of passes"
   ]
  },
  {
   "cell_type": "code",
   "execution_count": 29,
   "metadata": {
    "collapsed": false
   },
   "outputs": [],
   "source": [
    "flags = [1,2,3,'s','z']\n",
    "optz = ['-O%s' %i for i in flags]\n",
    "for opt in optz:\n",
    "    cmd = ['clang++',opt,'-mllvm','-debug-pass=Arguments','-c','-emit-llvm',croutine_dir+cfile,'-o',clang_dir+opt[1:]+\"-\"+cfile[:-4]+'.bc']\n",
    "    proc = subprocess.Popen(cmd,stdout=subprocess.PIPE,stderr=subprocess.PIPE)\n",
    "    o,e = proc.communicate()\n",
    "    if not proc.returncode:\n",
    "        with open(cwrite_dir+opt[1:]+\"-\"+cfile[:-4],'w+') as opt_file:\n",
    "            opt_file.write(e.decode('ascii'))\n",
    "    else:\n",
    "        print(e.decode('ascii'))"
   ]
  },
  {
   "cell_type": "markdown",
   "metadata": {},
   "source": [
    "# Difference between clang application and opt-tool"
   ]
  },
  {
   "cell_type": "markdown",
   "metadata": {},
   "source": [
    "## Passes appilied via clang backend"
   ]
  },
  {
   "cell_type": "code",
   "execution_count": 40,
   "metadata": {
    "collapsed": false
   },
   "outputs": [],
   "source": [
    "clang_pass = {}\n",
    "for name in os.listdir(cwrite_dir):\n",
    "    opt_ = name[:2]\n",
    "    clang_pass[opt_] = ''\n",
    "    with open(cwrite_dir+name, \n",
    "          'r') as fopt:\n",
    "        for line in fopt:\n",
    "            clang_pass[opt_] = clang_pass[opt_] + line\n",
    "            clang_pass[opt_] = list(map(lambda x : reduce(lambda y,pit : y.replace(pit,\"\"),[x]+pitfalls),clang_pass[opt_].split(' ')))\n",
    "            clang_pass[opt_] = list(np.unique(clang_pass[opt_]))\n",
    "            clang_pass[opt_] = ' '.join(filter(lambda x: x!='',clang_pass[opt_])) "
   ]
  },
  {
   "cell_type": "code",
   "execution_count": null,
   "metadata": {
    "collapsed": true
   },
   "outputs": [],
   "source": []
  },
  {
   "cell_type": "code",
   "execution_count": 52,
   "metadata": {
    "collapsed": false
   },
   "outputs": [
    {
     "data": {
      "text/plain": [
       "'-aa -adce -alignment-from-assumptions -assumption-cache-tracker -barrier -basicaa -basiccg -bdce -block-freq -branch-prob -called-value-propagation -constmerge -correlated-propagation -deadargelim -demanded-bits -div-rem-pairs -domtree -dse -early-cse -early-cse-memssa -ee-instrument -elim-avail-extern -float2int -forceattrs -functionattrs -globaldce -globalopt -globals-aa -gvn -indvars -inferattrs -inline -instcombine -instsimplify -ipsccp -jump-threading -lazy-block-freq -lazy-branch-prob -lazy-value-info -lcssa -lcssa-verification -licm -loop-accesses -loop-deletion -loop-distribute -loop-idiom -loop-load-elim -loop-rotate -loop-simplify -loop-sink -loop-unroll -loop-unswitch -loop-vectorize -loops -lower-expect -mem2reg -memcpyopt -memdep -memoryssa -mldst-motion -opt-remark-emitter -phi-values -postdomtree -profile-summary-info -prune-eh -reassociate -rpo-functionattrs -scalar-evolution -sccp -scoped-noalias -simplifycfg -slp-vectorizer -sroa -strip-dead-prototypes -tailcallelim -targetlibinfo -tbaa -transform-warning -tti -verify -write-bitcode'"
      ]
     },
     "execution_count": 52,
     "metadata": {},
     "output_type": "execute_result"
    }
   ],
   "source": [
    "clang_pass[opt_name[-2:]]"
   ]
  },
  {
   "cell_type": "code",
   "execution_count": 53,
   "metadata": {
    "collapsed": false,
    "scrolled": true
   },
   "outputs": [
    {
     "name": "stdout",
     "output_type": "stream",
     "text": [
      "Opt-tool opt_O1 matched to clang-opt-tool O1\n",
      "            -early-cse\n",
      "            -ee-instrument\n",
      "            -lower-expect\n",
      "            -transform-warning\n",
      "            -write-bitcode\n",
      "Opt-tool opt_O2 matched to clang-opt-tool O2\n",
      "            -early-cse\n",
      "            -ee-instrument\n",
      "            -lower-expect\n",
      "            -transform-warning\n",
      "            -write-bitcode\n",
      "Opt-tool opt_O3 matched to clang-opt-tool O3\n",
      "            -early-cse\n",
      "            -ee-instrument\n",
      "            -lower-expect\n",
      "            -transform-warning\n",
      "            -write-bitcode\n",
      "Opt-tool opt_Os matched to clang-opt-tool Os\n",
      "            -early-cse\n",
      "            -ee-instrument\n",
      "            -lower-expect\n",
      "            -transform-warning\n",
      "            -write-bitcode\n",
      "Opt-tool opt_Oz matched to clang-opt-tool Oz\n",
      "            -early-cse\n",
      "            -ee-instrument\n",
      "            -lower-expect\n",
      "            -slp-vectorizer\n",
      "            -transform-warning\n",
      "            -write-bitcode\n"
     ]
    }
   ],
   "source": [
    "spaces = \"            \"\n",
    "for opt_name in xs:\n",
    "    print(\"Opt-tool {} matched to clang-opt-tool {}\".format(opt_name,opt_name[-2:]))\n",
    "    for pass_ in clang_pass[opt_name[-2:]].split(' '):\n",
    "        if pass_ not in opts[opt_name].split(' '):\n",
    "            print(spaces+pass_)\n",
    "            \n",
    "    "
   ]
  },
  {
   "cell_type": "markdown",
   "metadata": {},
   "source": [
    "## Passes which appear in other passesd"
   ]
  },
  {
   "cell_type": "code",
   "execution_count": 126,
   "metadata": {
    "collapsed": false,
    "scrolled": false
   },
   "outputs": [
    {
     "data": {
      "text/plain": [
       "{'aa': '-assumption-cache-tracker -basicaa -domtree ',\n",
       " 'adce': '-postdomtree ',\n",
       " 'aggressive-instcombine': '-instcombine -domtree ',\n",
       " 'alignment-from-assumptions': '-assumption-cache-tracker -scalar-evolution -domtree -loops ',\n",
       " 'always-inline': '-basiccg -assumption-cache-tracker -inline -profile-summary-info ',\n",
       " 'argpromotion': '-basiccg -assumption-cache-tracker ',\n",
       " 'assumption-cache-tracker': '',\n",
       " 'barrier': '',\n",
       " 'basicaa': '-assumption-cache-tracker -domtree ',\n",
       " 'basiccg': '',\n",
       " 'bdce': '-demanded-bits -assumption-cache-tracker -domtree ',\n",
       " 'block-freq': '-branch-prob -domtree -loops ',\n",
       " 'branch-prob': '-domtree -loops ',\n",
       " 'called-value-propagation': '',\n",
       " 'callsite-splitting': '-domtree ',\n",
       " 'constmerge': '',\n",
       " 'correlated-propagation': '-lazy-value-info -assumption-cache-tracker -domtree ',\n",
       " 'deadargelim': '',\n",
       " 'demanded-bits': '-assumption-cache-tracker -domtree ',\n",
       " 'div-rem-pairs': '-domtree ',\n",
       " 'domtree': '',\n",
       " 'dse': '-phi-values -assumption-cache-tracker -aa -basicaa -memdep -domtree ',\n",
       " 'early-cse-memssa': '-assumption-cache-tracker -aa -basicaa -domtree -memoryssa ',\n",
       " 'elim-avail-extern': '',\n",
       " 'float2int': '',\n",
       " 'forceattrs': '',\n",
       " 'functionattrs': '-basiccg -assumption-cache-tracker ',\n",
       " 'globaldce': '',\n",
       " 'globalopt': '-branch-prob -block-freq -domtree -loops ',\n",
       " 'globals-aa': '-basiccg -aa ',\n",
       " 'gvn': '-phi-values -branch-prob -block-freq -opt-remark-emitter -assumption-cache-tracker -lazy-branch-prob -aa -lazy-block-freq -basicaa -memdep -domtree -loops ',\n",
       " 'indvars': '-loop-simplify -assumption-cache-tracker -scalar-evolution -lcssa -aa -basicaa -lcssa-verification -domtree -loops ',\n",
       " 'inferattrs': '',\n",
       " 'inline': '-basiccg -assumption-cache-tracker -profile-summary-info ',\n",
       " 'instcombine': '-branch-prob -block-freq -opt-remark-emitter -assumption-cache-tracker -lazy-branch-prob -aa -lazy-block-freq -basicaa -domtree -loops ',\n",
       " 'instsimplify': '-branch-prob -block-freq -opt-remark-emitter -assumption-cache-tracker -lazy-branch-prob -lazy-block-freq -domtree -loops ',\n",
       " 'ipsccp': '-assumption-cache-tracker -domtree ',\n",
       " 'jump-threading': '-lazy-value-info -assumption-cache-tracker -aa -basicaa -domtree ',\n",
       " 'lazy-block-freq': '-branch-prob -block-freq -lazy-branch-prob -domtree -loops ',\n",
       " 'lazy-branch-prob': '-branch-prob -domtree -loops ',\n",
       " 'lazy-value-info': '-assumption-cache-tracker ',\n",
       " 'lcssa': '-lcssa-verification -domtree -loops ',\n",
       " 'lcssa-verification': '-lcssa ',\n",
       " 'libcalls-shrinkwrap': '',\n",
       " 'licm': '-loop-simplify -assumption-cache-tracker -scalar-evolution -lcssa -aa -basicaa -lcssa-verification -domtree -loops ',\n",
       " 'loop-accesses': '-assumption-cache-tracker -scalar-evolution -aa -basicaa -domtree -loops ',\n",
       " 'loop-deletion': '-loop-simplify -assumption-cache-tracker -scalar-evolution -lcssa -aa -basicaa -lcssa-verification -domtree -loops ',\n",
       " 'loop-distribute': '-loop-accesses -branch-prob -block-freq -opt-remark-emitter -assumption-cache-tracker -scalar-evolution -lazy-branch-prob -aa -lazy-block-freq -basicaa -domtree -loops ',\n",
       " 'loop-idiom': '-loop-simplify -assumption-cache-tracker -scalar-evolution -lcssa -aa -basicaa -lcssa-verification -domtree -loops ',\n",
       " 'loop-load-elim': '-loop-accesses -loop-simplify -assumption-cache-tracker -scalar-evolution -aa -basicaa -domtree -loops ',\n",
       " 'loop-rotate': '-loop-simplify -assumption-cache-tracker -scalar-evolution -lcssa -aa -basicaa -lcssa-verification -domtree -loops ',\n",
       " 'loop-simplify': '-assumption-cache-tracker -domtree -loops ',\n",
       " 'loop-sink': '-branch-prob -block-freq -loop-simplify -assumption-cache-tracker -scalar-evolution -lcssa -aa -basicaa -lcssa-verification -domtree -loops ',\n",
       " 'loop-unroll': '-loop-simplify -assumption-cache-tracker -scalar-evolution -lcssa -aa -basicaa -lcssa-verification -domtree -loops ',\n",
       " 'loop-unswitch': '-loop-simplify -assumption-cache-tracker -scalar-evolution -lcssa -aa -basicaa -lcssa-verification -domtree -loops ',\n",
       " 'loop-vectorize': '-demanded-bits -loop-accesses -branch-prob -block-freq -opt-remark-emitter -assumption-cache-tracker -scalar-evolution -lazy-branch-prob -aa -lazy-block-freq -basicaa -domtree -loops ',\n",
       " 'loops': '-domtree ',\n",
       " 'mem2reg': '-assumption-cache-tracker -domtree ',\n",
       " 'memcpyopt': '-phi-values -assumption-cache-tracker -aa -basicaa -memdep -domtree ',\n",
       " 'memdep': '-phi-values -assumption-cache-tracker -aa -basicaa -domtree ',\n",
       " 'memoryssa': '-assumption-cache-tracker -aa -basicaa -domtree ',\n",
       " 'mldst-motion': '-assumption-cache-tracker -aa -basicaa -domtree ',\n",
       " 'opt-remark-emitter': '-branch-prob -block-freq -lazy-branch-prob -lazy-block-freq -domtree -loops ',\n",
       " 'pgo-memop-opt': '-branch-prob -block-freq -opt-remark-emitter -lazy-branch-prob -lazy-block-freq -domtree -loops ',\n",
       " 'phi-values': '',\n",
       " 'postdomtree': '',\n",
       " 'profile-summary-info': '',\n",
       " 'prune-eh': '-basiccg ',\n",
       " 'reassociate': '',\n",
       " 'rpo-functionattrs': '-basiccg -functionattrs ',\n",
       " 'scalar-evolution': '-assumption-cache-tracker -domtree -loops ',\n",
       " 'sccp': '',\n",
       " 'scoped-noalias': '',\n",
       " 'simplifycfg': '-assumption-cache-tracker ',\n",
       " 'slp-vectorizer': '-demanded-bits -branch-prob -block-freq -opt-remark-emitter -assumption-cache-tracker -scalar-evolution -lazy-branch-prob -aa -lazy-block-freq -basicaa -domtree -loops ',\n",
       " 'speculative-execution': '',\n",
       " 'sroa': '-assumption-cache-tracker -domtree ',\n",
       " 'strip-dead-prototypes': '',\n",
       " 'tailcallelim': '-branch-prob -block-freq -opt-remark-emitter -assumption-cache-tracker -lazy-branch-prob -aa -lazy-block-freq -basicaa -domtree -loops ',\n",
       " 'targetlibinfo': '',\n",
       " 'tbaa': '',\n",
       " 'tti': '',\n",
       " 'verify': ''}"
      ]
     },
     "execution_count": 126,
     "metadata": {},
     "output_type": "execute_result"
    }
   ],
   "source": [
    "#@appear_pass key-where applied, pass_ - which one ####\n",
    "appear_pass  = {}\n",
    "for k in passes.keys():\n",
    "    appear_pass[k]=''\n",
    "for pass_ in passes.keys():\n",
    "    for k,value in passes.items():\n",
    "        if(re.match('.*(\\-'+pass_+').*',value)):\n",
    "            if k!=pass_:\n",
    "                try:\n",
    "                    appear_pass[k] += \"-\"+pass_ + \" \"\n",
    "                except KeyError:\n",
    "                    pass"
   ]
  },
  {
   "cell_type": "code",
   "execution_count": 129,
   "metadata": {
    "collapsed": false
   },
   "outputs": [
    {
     "name": "stdout",
     "output_type": "stream",
     "text": [
      "slp-vectorizer\n",
      "prune-eh\n",
      "phi-values\n",
      "demanded-bits\n",
      "pgo-memop-opt\n",
      "mldst-motion\n",
      "ipsccp\n",
      "targetlibinfo\n",
      "postdomtree\n",
      "float2int\n",
      "indvars\n",
      "strip-dead-prototypes\n",
      "mem2reg\n",
      "verify\n",
      "speculative-execution\n",
      "adce\n",
      "libcalls-shrinkwrap\n",
      "loop-accesses\n",
      "branch-prob\n",
      "loop-idiom\n",
      "loop-unroll\n",
      "basiccg\n",
      "licm\n",
      "block-freq\n",
      "opt-remark-emitter\n",
      "reassociate\n",
      "jump-threading\n",
      "dse\n",
      "loop-rotate\n",
      "memcpyopt\n",
      "globals-aa\n",
      "instsimplify\n",
      "loop-simplify\n",
      "early-cse-memssa\n",
      "rpo-functionattrs\n",
      "gvn\n",
      "div-rem-pairs\n",
      "lazy-value-info\n",
      "globalopt\n",
      "tbaa\n",
      "loop-distribute\n",
      "barrier\n",
      "bdce\n",
      "loop-deletion\n",
      "assumption-cache-tracker\n",
      "forceattrs\n",
      "scalar-evolution\n",
      "inline\n",
      "instcombine\n",
      "alignment-from-assumptions\n",
      "always-inline\n",
      "lcssa\n",
      "correlated-propagation\n",
      "sroa\n",
      "lazy-branch-prob\n",
      "elim-avail-extern\n",
      "globaldce\n",
      "inferattrs\n",
      "loop-load-elim\n",
      "constmerge\n",
      "aa\n",
      "tti\n",
      "aggressive-instcombine\n",
      "functionattrs\n",
      "argpromotion\n",
      "loop-vectorize\n",
      "lazy-block-freq\n",
      "tailcallelim\n",
      "basicaa\n",
      "profile-summary-info\n",
      "memdep\n",
      "lcssa-verification\n",
      "loop-unswitch\n",
      "sccp\n",
      "domtree\n",
      "called-value-propagation\n",
      "callsite-splitting\n",
      "simplifycfg\n",
      "scoped-noalias\n",
      "deadargelim\n",
      "loop-sink\n",
      "memoryssa\n",
      "loops\n"
     ]
    }
   ],
   "source": [
    "def pass_recursion(passed,result):\n",
    "    global_result = []\n",
    "    for _,path in passed:\n",
    "        tmp = list(filter(lambda x : x not in path.split(' '),passed))\n",
    "        global_\n",
    "        "
   ]
  },
  {
   "cell_type": "code",
   "execution_count": null,
   "metadata": {
    "collapsed": true
   },
   "outputs": [],
   "source": [
    "# -aa-eval: Exhaustive Alias Analysis Precision Evaluator\n",
    "# -basicaa: Basic Alias Analysis (stateless AA impl)\n",
    "# -basiccg: Basic CallGraph Construction\n",
    "# -count-aa: Count Alias Analysis Query Responses\n",
    "# -da: Dependence Analysis\n",
    "# -debug-aa: AA use debugger\n",
    "# -domfrontier: Dominance Frontier Construction\n",
    "# -domtree: Dominator Tree Construction\n",
    "# -dot-callgraph: Print Call Graph to “dot” file\n",
    "# -dot-cfg: Print CFG of function to “dot” file\n",
    "# -dot-cfg-only: Print CFG of function to “dot” file (with no function bodies)\n",
    "# -dot-dom: Print dominance tree of function to “dot” file\n",
    "# -dot-dom-only: Print dominance tree of function to “dot” file (with no function bodies)\n",
    "# -dot-postdom: Print postdominance tree of function to “dot” file\n",
    "# -dot-postdom-only: Print postdominance tree of function to “dot” file (with no function bodies)\n",
    "# -globalsmodref-aa: Simple mod/ref analysis for globals\n",
    "# -instcount: Counts the various types of Instructions\n",
    "# -intervals: Interval Partition Construction\n",
    "# -iv-users: Induction Variable Users\n",
    "# -lazy-value-info: Lazy Value Information Analysis\n",
    "# -libcall-aa: LibCall Alias Analysis\n",
    "# -lint: Statically lint-checks LLVM IR\n",
    "# -loops: Natural Loop Information\n",
    "# -memdep: Memory Dependence Analysis\n",
    "# -module-debuginfo: Decodes module-level debug info\n",
    "# -postdomfrontier: Post-Dominance Frontier Construction\n",
    "# -postdomtree: Post-Dominator Tree Construction\n",
    "# -print-alias-sets: Alias Set Printer\n",
    "# -print-callgraph: Print a call graph\n",
    "# -print-callgraph-sccs: Print SCCs of the Call Graph\n",
    "# -print-cfg-sccs: Print SCCs of each function CFG\n",
    "# -print-dom-info: Dominator Info Printer\n",
    "# -print-externalfnconstants: Print external fn callsites passed constants\n",
    "# -print-function: Print function to stderr\n",
    "# -print-module: Print module to stderr\n",
    "# -print-used-types: Find Used Types\n",
    "# -regions: Detect single entry single exit regions\n",
    "# -scalar-evolution: Scalar Evolution Analysis\n",
    "# -scev-aa: ScalarEvolution-based Alias Analysis\n",
    "# -stack-safety: Stack Safety Analysis\n",
    "# -targetdata: Target Data Layout\n",
    "# Transform Passes\n",
    "# -adce: Aggressive Dead Code Elimination\n",
    "# -always-inline: Inliner for always_inline functions\n",
    "# -argpromotion: Promote ‘by reference’ arguments to scalars\n",
    "# -bb-vectorize: Basic-Block Vectorization\n",
    "# -block-placement: Profile Guided Basic Block Placement\n",
    "# -break-crit-edges: Break critical edges in CFG\n",
    "# -codegenprepare: Optimize for code generation\n",
    "# -constmerge: Merge Duplicate Global Constants\n",
    "# -constprop: Simple constant propagation\n",
    "# -dce: Dead Code Elimination\n",
    "# -deadargelim: Dead Argument Elimination\n",
    "# -deadtypeelim: Dead Type Elimination\n",
    "# -die: Dead Instruction Elimination\n",
    "# -dse: Dead Store Elimination\n",
    "# -functionattrs: Deduce function attributes\n",
    "# -globaldce: Dead Global Elimination\n",
    "# -globalopt: Global Variable Optimizer\n",
    "# -gvn: Global Value Numbering\n",
    "# -indvars: Canonicalize Induction Variables\n",
    "# -inline: Function Integration/Inlining\n",
    "# -instcombine: Combine redundant instructions\n",
    "# -aggressive-instcombine: Combine expression patterns\n",
    "# -internalize: Internalize Global Symbols\n",
    "# -ipconstprop: Interprocedural constant propagation\n",
    "# -ipsccp: Interprocedural Sparse Conditional Constant Propagation\n",
    "# -jump-threading: Jump Threading\n",
    "# -lcssa: Loop-Closed SSA Form Pass\n",
    "# -licm: Loop Invariant Code Motion\n",
    "# -loop-deletion: Delete dead loops\n",
    "# -loop-extract: Extract loops into new functions\n",
    "# -loop-extract-single: Extract at most one loop into a new function\n",
    "# -loop-reduce: Loop Strength Reduction\n",
    "# -loop-rotate: Rotate Loops\n",
    "# -loop-simplify: Canonicalize natural loops\n",
    "# -loop-unroll: Unroll loops\n",
    "# -loop-unroll-and-jam: Unroll and Jam loops\n",
    "# -loop-unswitch: Unswitch loops\n",
    "# -loweratomic: Lower atomic intrinsics to non-atomic form\n",
    "# -lowerinvoke: Lower invokes to calls, for unwindless code generators\n",
    "# -lowerswitch: Lower SwitchInsts to branches\n",
    "# -mem2reg: Promote Memory to Register\n",
    "# -memcpyopt: MemCpy Optimization\n",
    "# -mergefunc: Merge Functions\n",
    "# -mergereturn: Unify function exit nodes\n",
    "# -partial-inliner: Partial Inliner\n",
    "# -prune-eh: Remove unused exception handling info\n",
    "# -reassociate: Reassociate expressions\n",
    "# -reg2mem: DMemote all values to stack slots\n",
    "# -sroa: Scalar Replacement of Aggregates\n",
    "# -sccp: Sparse Conditional Constant Propagation\n",
    "# -simplifycfg: Simplify the CFG\n",
    "# -sink: Code sinking\n",
    "# -strip: Strip all symbols from a module\n",
    "# -strip-dead-debug-info: Strip debug info for unused symbols\n",
    "# -strip-dead-prototypes: Strip Unused Function Prototypes\n",
    "# -strip-debug-declare: Strip all llvm.dbg.declare intrinsics\n",
    "# -strip-nondebug: Strip all symbols, except dbg symbols, from a module\n",
    "# -tailcallelim: Tail Call Elimination\n",
    "# Utility Passes\n",
    "# -deadarghaX0r: Dead Argument Hacking (BUGPOINT USE ONLY; DO NOT USE)\n",
    "# -extract-blocks: Extract Basic Blocks From Module (for bugpoint use)\n",
    "# -instnamer: Assign names to anonymous instructions\n",
    "# -verify: Module Verifier\n",
    "# -view-cfg: View CFG of function\n",
    "# -view-cfg-only: View CFG of function (with no function bodies)\n",
    "# -view-dom: View dominance tree of function\n",
    "# -view-dom-only: View dominance tree of function (with no function bodies)\n",
    "# -view-postdom: View postdominance tree of function\n",
    "# -view-postdom-only: View postdominance tree of function (with no function bodies)\n",
    "# -transform-warning: Report missed forced transformations\n",
    "\n",
    "#    -aarch64-a57-fp-load-balancing                  - AArch64 A57 FP Load-Balancing\n",
    "#     -aarch64-ccmp                                   - AArch64 CCMP Pass\n",
    "#     -aarch64-collect-loh                            - AArch64 Collect Linker Optimization Hint (LOH)\n",
    "#     -aarch64-condopt                                - AArch64 CondOpt Pass\n",
    "#     -aarch64-copyelim                               - AArch64 redundant copy elimination pass\n",
    "#     -aarch64-dead-defs                              - AArch64 Dead register definitions\n",
    "#     -aarch64-expand-pseudo                          - AArch64 pseudo instruction expansion pass\n",
    "#     -aarch64-fix-cortex-a53-835769-pass             - AArch64 fix for A53 erratum 835769\n",
    "#     -aarch64-ldst-opt                               - AArch64 load / store optimization pass\n",
    "#     -aarch64-local-dynamic-tls-cleanup              - AArch64 Local Dynamic TLS Access Clean-up\n",
    "#     -aarch64-promote-const                          - AArch64 Promote Constant Pass\n",
    "#     -aarch64-simd-scalar                            - AdvSIMD Scalar Operation Optimization\n",
    "#     -aarch64-simdinstr-opt                          - AArch64 SIMD instructions optimization pass\n",
    "# #     -aarch64-stp-suppress   "
   ]
  }
 ],
 "metadata": {
  "anaconda-cloud": {},
  "kernelspec": {
   "display_name": "Python [conda env:anaconda3]",
   "language": "python",
   "name": "conda-env-anaconda3-py"
  },
  "language_info": {
   "codemirror_mode": {
    "name": "ipython",
    "version": 3
   },
   "file_extension": ".py",
   "mimetype": "text/x-python",
   "name": "python",
   "nbconvert_exporter": "python",
   "pygments_lexer": "ipython3",
   "version": "3.5.2"
  },
  "nbpresent": {
   "slides": {
    "05449493-f683-4f75-b14e-5cf567ba0d77": {
     "id": "05449493-f683-4f75-b14e-5cf567ba0d77",
     "prev": null,
     "regions": {
      "8f36149c-2b29-4813-a770-8a22fa39c700": {
       "attrs": {
        "height": 0.8,
        "width": 0.8,
        "x": 0.1,
        "y": 0.1
       },
       "content": {
        "cell": "3feb893d-c597-4b80-8e45-28dc2762762c",
        "part": "whole"
       },
       "id": "8f36149c-2b29-4813-a770-8a22fa39c700"
      }
     }
    },
    "0ee1c9e8-4c9b-40d0-a477-8faddabeee8f": {
     "id": "0ee1c9e8-4c9b-40d0-a477-8faddabeee8f",
     "prev": "59ef1cfd-7b79-4ea8-b535-da1186323e4d",
     "regions": {
      "6dec485b-a765-4867-99cc-5b372310370b": {
       "attrs": {
        "height": 0.8,
        "width": 0.8,
        "x": 0.1,
        "y": 0.1
       },
       "content": {
        "cell": "1018731d-ded4-49bf-8ca4-4136529af7b4",
        "part": "whole"
       },
       "id": "6dec485b-a765-4867-99cc-5b372310370b"
      }
     }
    },
    "19ed3b1e-ebc6-4376-8b5e-d6f15550c491": {
     "id": "19ed3b1e-ebc6-4376-8b5e-d6f15550c491",
     "prev": "991d7d27-9223-4871-8751-a44e6b411d41",
     "regions": {
      "bea31015-0ab5-44f7-b53a-f8c4b9177271": {
       "attrs": {
        "height": 0.8,
        "width": 0.8,
        "x": 0.1,
        "y": 0.1
       },
       "content": {
        "cell": "fb48dab4-7fe0-42f3-aa4a-63a5a5675b86",
        "part": "whole"
       },
       "id": "bea31015-0ab5-44f7-b53a-f8c4b9177271"
      }
     }
    },
    "1c9c5d92-d72b-4ddc-949d-7fb41cf91d93": {
     "id": "1c9c5d92-d72b-4ddc-949d-7fb41cf91d93",
     "prev": "19ed3b1e-ebc6-4376-8b5e-d6f15550c491",
     "regions": {
      "ee4021b3-2a57-4aea-825a-9777aea889f9": {
       "attrs": {
        "height": 0.8,
        "width": 0.8,
        "x": 0.1,
        "y": 0.1
       },
       "content": {
        "cell": "63c5f9ec-badb-45f4-8b37-6262e40e5482",
        "part": "whole"
       },
       "id": "ee4021b3-2a57-4aea-825a-9777aea889f9"
      }
     }
    },
    "22753ba9-e531-400a-956b-3aeb1574ffa1": {
     "id": "22753ba9-e531-400a-956b-3aeb1574ffa1",
     "prev": "ab064ae5-3778-446f-a8fc-145f21c98a1f",
     "regions": {
      "759203c2-798a-4112-bbc5-5d25fae02dec": {
       "attrs": {
        "height": 0.8,
        "width": 0.8,
        "x": 0.1,
        "y": 0.1
       },
       "content": {
        "cell": "75d2f980-f3b2-4abf-b85f-0e281122b7e5",
        "part": "whole"
       },
       "id": "759203c2-798a-4112-bbc5-5d25fae02dec"
      }
     }
    },
    "59ef1cfd-7b79-4ea8-b535-da1186323e4d": {
     "id": "59ef1cfd-7b79-4ea8-b535-da1186323e4d",
     "prev": "bacbcc42-e1c0-4780-8e80-1327862cd32a",
     "regions": {
      "bc6465a9-7bef-443b-915c-b8a6aff1281b": {
       "attrs": {
        "height": 0.8,
        "width": 0.8,
        "x": 0.1,
        "y": 0.1
       },
       "content": {
        "cell": "9a79822b-402a-4dd0-abde-e49aefbae219",
        "part": "whole"
       },
       "id": "bc6465a9-7bef-443b-915c-b8a6aff1281b"
      }
     }
    },
    "852431d3-5d6a-46d5-a4b7-14de6a3db1b8": {
     "id": "852431d3-5d6a-46d5-a4b7-14de6a3db1b8",
     "prev": "d47dc185-30cd-4f7f-8390-c1e8a86efb73",
     "regions": {
      "2baf34a1-de78-492a-ad6e-bd718b612775": {
       "attrs": {
        "height": 0.8,
        "width": 0.8,
        "x": 0.1,
        "y": 0.1
       },
       "content": {
        "cell": "0e86981f-e353-4859-80a4-b1879ce99bda",
        "part": "whole"
       },
       "id": "2baf34a1-de78-492a-ad6e-bd718b612775"
      }
     }
    },
    "92d904a3-15bd-42c4-97f3-299ce823bfba": {
     "id": "92d904a3-15bd-42c4-97f3-299ce823bfba",
     "prev": "1c9c5d92-d72b-4ddc-949d-7fb41cf91d93",
     "regions": {
      "7135a5ba-e091-4c93-b929-2a460bd2210e": {
       "attrs": {
        "height": 0.8,
        "width": 0.8,
        "x": 0.1,
        "y": 0.1
       },
       "content": {
        "cell": "31355abd-1067-4a6d-a59d-32646d0ab044",
        "part": "whole"
       },
       "id": "7135a5ba-e091-4c93-b929-2a460bd2210e"
      }
     }
    },
    "991d7d27-9223-4871-8751-a44e6b411d41": {
     "id": "991d7d27-9223-4871-8751-a44e6b411d41",
     "prev": "0ee1c9e8-4c9b-40d0-a477-8faddabeee8f",
     "regions": {
      "08e4f7c6-b827-41a5-8d60-96e98f457da3": {
       "attrs": {
        "height": 0.8,
        "width": 0.8,
        "x": 0.1,
        "y": 0.1
       },
       "content": {
        "cell": "81708f64-bf75-413a-9b81-1d580078c5d3",
        "part": "whole"
       },
       "id": "08e4f7c6-b827-41a5-8d60-96e98f457da3"
      }
     }
    },
    "ab064ae5-3778-446f-a8fc-145f21c98a1f": {
     "id": "ab064ae5-3778-446f-a8fc-145f21c98a1f",
     "prev": "852431d3-5d6a-46d5-a4b7-14de6a3db1b8",
     "regions": {
      "bc16a73e-3226-42a4-8ff7-021419d6ed23": {
       "attrs": {
        "height": 0.8,
        "width": 0.8,
        "x": 0.1,
        "y": 0.1
       },
       "content": {
        "cell": "d31b856c-1cda-46e8-82e6-4af431998f1d",
        "part": "whole"
       },
       "id": "bc16a73e-3226-42a4-8ff7-021419d6ed23"
      }
     }
    },
    "bacbcc42-e1c0-4780-8e80-1327862cd32a": {
     "id": "bacbcc42-e1c0-4780-8e80-1327862cd32a",
     "prev": "05449493-f683-4f75-b14e-5cf567ba0d77",
     "regions": {
      "f6b57121-9e3b-48ad-a9fa-5aae5db12341": {
       "attrs": {
        "height": 0.8,
        "width": 0.8,
        "x": 0.1,
        "y": 0.1
       },
       "content": {
        "cell": "96766e6d-42fe-48f1-bfd3-8c305f3abce5",
        "part": "whole"
       },
       "id": "f6b57121-9e3b-48ad-a9fa-5aae5db12341"
      }
     }
    },
    "d47dc185-30cd-4f7f-8390-c1e8a86efb73": {
     "id": "d47dc185-30cd-4f7f-8390-c1e8a86efb73",
     "prev": "ffb71f96-d171-4dec-b888-a3c7734fbdfa",
     "regions": {
      "05cf1cb4-d80c-49bf-9c3b-b1e5b143bce2": {
       "attrs": {
        "height": 0.8,
        "width": 0.8,
        "x": 0.1,
        "y": 0.1
       },
       "content": {
        "cell": "2624fdd2-ccae-48a6-8b99-6744120cdc7a",
        "part": "whole"
       },
       "id": "05cf1cb4-d80c-49bf-9c3b-b1e5b143bce2"
      }
     }
    },
    "ffb71f96-d171-4dec-b888-a3c7734fbdfa": {
     "id": "ffb71f96-d171-4dec-b888-a3c7734fbdfa",
     "prev": "92d904a3-15bd-42c4-97f3-299ce823bfba",
     "regions": {
      "5723688a-8287-4b78-877e-b9daa289f60a": {
       "attrs": {
        "height": 0.8,
        "width": 0.8,
        "x": 0.1,
        "y": 0.1
       },
       "content": {
        "cell": "acbf6ff4-0fca-467c-af4a-d63e3a201c33",
        "part": "whole"
       },
       "id": "5723688a-8287-4b78-877e-b9daa289f60a"
      }
     }
    }
   },
   "themes": {}
  }
 },
 "nbformat": 4,
 "nbformat_minor": 1
}
